{
 "cells": [
  {
   "cell_type": "code",
   "execution_count": null,
   "id": "e2a6a14b-685d-48e5-a873-d88ef960a413",
   "metadata": {},
   "outputs": [],
   "source": [
    "import pandas as pd\n",
    "import matplotlib.pyplot as plt\n",
    "import seaborn as sns\n",
    "import numpy as np\n",
    "\n",
    "%matplotlib inline"
   ]
  },
  {
   "cell_type": "markdown",
   "id": "1698aec7-7577-4d4a-a86a-d56f33e80ba2",
   "metadata": {},
   "source": [
    "# Load Datasets"
   ]
  },
  {
   "cell_type": "code",
   "execution_count": null,
   "id": "12a79bcb-bbd6-4e1c-bf41-f25c57169885",
   "metadata": {},
   "outputs": [],
   "source": [
    "# Base raw URL from GitHub (must be the \"raw\" version)\n",
    "base_url = 'https://raw.githubusercontent.com/data-bootcamp-v4/lessons/main/5_6_eda_inf_stats_tableau/project/files_for_project/'\n",
    "\n",
    "demo= 'df_final_demo.txt'\n",
    "clients ='df_final_experiment_clients.txt'\n",
    "web1= 'df_final_web_data_pt_1.txt'\n",
    "web2= 'df_final_web_data_pt_2.txt'\n",
    "\n",
    "df_demo = pd.read_csv(base_url + demo, delimiter=',')\n",
    "df_client = pd.read_csv(base_url + clients, delimiter=',')\n",
    "df_web1 = pd.read_csv(base_url + web1, delimiter=',')\n",
    "df_web2 = pd.read_csv(base_url + web2, delimiter=',')\n",
    "\n",
    "# Merge web data\n",
    "df_web = pd.concat([df_web1, df_web2], ignore_index=True)"
   ]
  },
  {
   "cell_type": "code",
   "execution_count": null,
   "id": "be62d825-81dc-4374-a28c-85a35cd70fc5",
   "metadata": {},
   "outputs": [],
   "source": [
    "df_demo.head()"
   ]
  },
  {
   "cell_type": "code",
   "execution_count": null,
   "id": "2845ecee-8849-4c4c-ad02-a757771a0caf",
   "metadata": {},
   "outputs": [],
   "source": []
  },
  {
   "cell_type": "code",
   "execution_count": null,
   "id": "cc2c32b8-8b5e-4acc-bc62-15f161f06d79",
   "metadata": {},
   "outputs": [],
   "source": [
    "df_client.head()"
   ]
  },
  {
   "cell_type": "code",
   "execution_count": null,
   "id": "6af9ff15-0e1f-426e-bd1a-7db27def5b66",
   "metadata": {},
   "outputs": [],
   "source": []
  },
  {
   "cell_type": "code",
   "execution_count": null,
   "id": "0da14b8b-9fae-4a4e-8202-47442e0d46f2",
   "metadata": {},
   "outputs": [],
   "source": [
    "df_web.head()"
   ]
  },
  {
   "cell_type": "code",
   "execution_count": null,
   "id": "bfa69fee-a6ea-4d6b-be8a-089e447fca6c",
   "metadata": {},
   "outputs": [],
   "source": []
  },
  {
   "cell_type": "code",
   "execution_count": null,
   "id": "0030e231-292b-4441-b627-e34fc812d20a",
   "metadata": {},
   "outputs": [],
   "source": [
    "df_demo.tail()"
   ]
  },
  {
   "cell_type": "code",
   "execution_count": null,
   "id": "5b58f229-8ac6-4a4c-b9a9-ea355fda8b16",
   "metadata": {},
   "outputs": [],
   "source": []
  },
  {
   "cell_type": "code",
   "execution_count": null,
   "id": "6d77a254-1329-4d19-baeb-bb93c6f719bc",
   "metadata": {},
   "outputs": [],
   "source": [
    "df_demo.info()"
   ]
  },
  {
   "cell_type": "code",
   "execution_count": null,
   "id": "90a608e2-23bd-4091-8519-a6eeba7231d3",
   "metadata": {},
   "outputs": [],
   "source": []
  },
  {
   "cell_type": "code",
   "execution_count": null,
   "id": "88a93056-613c-4ada-9917-34f0ce6777d5",
   "metadata": {},
   "outputs": [],
   "source": [
    "df_client.info()"
   ]
  },
  {
   "cell_type": "code",
   "execution_count": null,
   "id": "996bc426-c45d-4c48-90ef-8fd4b76bed79",
   "metadata": {},
   "outputs": [],
   "source": []
  },
  {
   "cell_type": "code",
   "execution_count": null,
   "id": "950806f1-463b-4980-99a2-61b9e3356917",
   "metadata": {},
   "outputs": [],
   "source": [
    "df_web.info()"
   ]
  },
  {
   "cell_type": "code",
   "execution_count": null,
   "id": "8231828b-6231-4602-a61c-47df92d585c8",
   "metadata": {},
   "outputs": [],
   "source": []
  },
  {
   "cell_type": "markdown",
   "id": "9cd0d6f0-b5b2-4f1b-ad8c-88f7853ae6f6",
   "metadata": {},
   "source": [
    "# Handle Missing Values"
   ]
  },
  {
   "cell_type": "code",
   "execution_count": null,
   "id": "1a9512ba-7012-49f3-b735-775a2d691ab8",
   "metadata": {},
   "outputs": [],
   "source": [
    "df_demo.isnull().sum()"
   ]
  },
  {
   "cell_type": "code",
   "execution_count": null,
   "id": "95fbc0df-6c6c-4028-9851-e8b2914a5f52",
   "metadata": {},
   "outputs": [],
   "source": []
  },
  {
   "cell_type": "code",
   "execution_count": null,
   "id": "3b8dead5-6445-4eaf-bbc1-c452c5d7be5b",
   "metadata": {},
   "outputs": [],
   "source": [
    "df_client.isnull().sum()"
   ]
  },
  {
   "cell_type": "code",
   "execution_count": null,
   "id": "9d6651f6-be94-44e3-a969-7f1cbeb1d248",
   "metadata": {},
   "outputs": [],
   "source": []
  },
  {
   "cell_type": "code",
   "execution_count": null,
   "id": "ce844ccc-eef4-425f-acb9-eed3ad240a2a",
   "metadata": {},
   "outputs": [],
   "source": [
    "df_web.isnull().sum()"
   ]
  },
  {
   "cell_type": "markdown",
   "id": "536d0c4a-177f-4be1-86e9-509d587d86db",
   "metadata": {},
   "source": [
    "# Remove Duplicates"
   ]
  },
  {
   "cell_type": "code",
   "execution_count": null,
   "id": "656733f4-9adc-44ff-b570-305dbd5367a5",
   "metadata": {},
   "outputs": [],
   "source": [
    "print(df_demo.duplicated().sum())\n",
    "df_demo = df_demo.drop_duplicates()"
   ]
  },
  {
   "cell_type": "code",
   "execution_count": null,
   "id": "9b675b5c-dd8b-4cad-9ebd-aca3e007dddb",
   "metadata": {},
   "outputs": [],
   "source": []
  },
  {
   "cell_type": "code",
   "execution_count": null,
   "id": "c6e385f1-034b-4f51-a45c-4962373eaeb3",
   "metadata": {},
   "outputs": [],
   "source": [
    "print(df_client.duplicated().sum())\n",
    "df_demo = df_client.drop_duplicates()"
   ]
  },
  {
   "cell_type": "code",
   "execution_count": null,
   "id": "f63da7ed-3fc7-4556-9366-2c21b7c09178",
   "metadata": {},
   "outputs": [],
   "source": []
  },
  {
   "cell_type": "code",
   "execution_count": null,
   "id": "651bbe5c-9def-4b78-8094-d59f445180a5",
   "metadata": {},
   "outputs": [],
   "source": [
    "print(df_web.duplicated().sum())\n",
    "df_demo = df_web.drop_duplicates()"
   ]
  },
  {
   "cell_type": "code",
   "execution_count": null,
   "id": "feac5961-31fd-4f74-93ec-abb34d63d0f7",
   "metadata": {},
   "outputs": [],
   "source": []
  },
  {
   "cell_type": "code",
   "execution_count": null,
   "id": "90b4ba30-eb9a-4911-850a-438c5095d427",
   "metadata": {},
   "outputs": [],
   "source": [
    "# Check unique values in experiment group\n",
    "\n",
    "df_client.value_counts()"
   ]
  },
  {
   "cell_type": "code",
   "execution_count": null,
   "id": "2e18179e-8c6f-4943-9d94-47bb6a88f0dc",
   "metadata": {},
   "outputs": [],
   "source": []
  },
  {
   "cell_type": "code",
   "execution_count": null,
   "id": "33de966d-934f-44a9-8b31-1fe0ecfa5a20",
   "metadata": {},
   "outputs": [],
   "source": []
  },
  {
   "cell_type": "markdown",
   "id": "dafb7a30-bcd3-4add-987c-470e4773fdc8",
   "metadata": {},
   "source": [
    "# Inspect Column Names"
   ]
  },
  {
   "cell_type": "code",
   "execution_count": null,
   "id": "4b4ead41-a929-4e8b-a382-6c4c3e307040",
   "metadata": {},
   "outputs": [],
   "source": [
    "df_demo.columns.tolist()"
   ]
  },
  {
   "cell_type": "code",
   "execution_count": null,
   "id": "3db8ed27-a867-4aae-95cf-6960f598eb26",
   "metadata": {},
   "outputs": [],
   "source": [
    "df_web.columns.tolist()"
   ]
  },
  {
   "cell_type": "code",
   "execution_count": null,
   "id": "90b95367-6281-4150-b219-b6428f763720",
   "metadata": {},
   "outputs": [],
   "source": [
    "df_client.columns.tolist()"
   ]
  },
  {
   "cell_type": "code",
   "execution_count": null,
   "id": "76501896-498e-453b-91ca-56f8f442db3b",
   "metadata": {},
   "outputs": [],
   "source": []
  },
  {
   "cell_type": "markdown",
   "id": "b20fc860-757b-4f8b-92f7-31ef7141a95c",
   "metadata": {},
   "source": [
    "# Correct Data Types"
   ]
  },
  {
   "cell_type": "code",
   "execution_count": null,
   "id": "484a8bd4-a928-4824-bc16-dde0dc857812",
   "metadata": {},
   "outputs": [],
   "source": [
    "# Convert 'date_time' column to datetime\n",
    "\n",
    "df_web['date_time'] = pd.to_datetime(df_web['date_time'], errors='coerce')\n",
    "print(df_web['date_time'].dtype)\n"
   ]
  },
  {
   "cell_type": "code",
   "execution_count": null,
   "id": "78971c22-e4df-40f5-8655-92e2eaae636a",
   "metadata": {},
   "outputs": [],
   "source": []
  },
  {
   "cell_type": "markdown",
   "id": "b36f1c39-0fa1-4b09-bb9c-917e3178eaa9",
   "metadata": {},
   "source": [
    "# Standardize text data to ensure consistency"
   ]
  },
  {
   "cell_type": "code",
   "execution_count": null,
   "id": "ed1e0066-660a-4ee7-8b38-5bfedf8fc067",
   "metadata": {},
   "outputs": [],
   "source": [
    "df_demo.columns\n"
   ]
  },
  {
   "cell_type": "code",
   "execution_count": null,
   "id": "d9640807-59e8-4362-86b5-b59c6ceb141c",
   "metadata": {},
   "outputs": [],
   "source": [
    "# Standardize gender entries\n",
    "\n",
    "df_demo.rename(columns={'gendr': 'gender'}, inplace=True)\n",
    "df_demo['gender'] = df_demo['gender'].str.lower().str.strip()"
   ]
  },
  {
   "cell_type": "code",
   "execution_count": null,
   "id": "ae0d4490-eb72-4218-aee7-629b4d5e2164",
   "metadata": {},
   "outputs": [],
   "source": []
  },
  {
   "cell_type": "markdown",
   "id": "09e2e648-bd82-404d-b0f5-549a051f7526",
   "metadata": {},
   "source": []
  },
  {
   "cell_type": "markdown",
   "id": "4dd4b124-f2e5-457e-90f2-7f55c1f1c263",
   "metadata": {},
   "source": [
    "# Descriptive Statistics"
   ]
  },
  {
   "cell_type": "code",
   "execution_count": null,
   "id": "b97eef4e-1174-47c3-9e1c-0c23c6d464f5",
   "metadata": {},
   "outputs": [],
   "source": [
    "df_demo.describe()"
   ]
  },
  {
   "cell_type": "code",
   "execution_count": null,
   "id": "130f1aa4-a1c0-46fe-87a3-3e99d5d4c260",
   "metadata": {},
   "outputs": [],
   "source": [
    "# clean and standardize all column names in your DataFrame (df_demo)\n",
    "df_demo.columns = df_demo.columns.str.strip().str.lower()"
   ]
  },
  {
   "cell_type": "markdown",
   "id": "dd49f64c-095e-4f4d-bdcf-87c2158685fe",
   "metadata": {},
   "source": [
    "# Histograms"
   ]
  },
  {
   "cell_type": "code",
   "execution_count": null,
   "id": "de4fdb23-02f2-4a25-a7d5-0df8794aae61",
   "metadata": {},
   "outputs": [],
   "source": [
    "# Visualize the distribution of numerical variables\n",
    "\n",
    "df_demo.hist(figsize=(10, 8))\n",
    "plt.tight_layout()\n",
    "plt.show()"
   ]
  },
  {
   "cell_type": "code",
   "execution_count": null,
   "id": "8c298981-b615-4918-8925-cf51c3746279",
   "metadata": {},
   "outputs": [],
   "source": []
  },
  {
   "cell_type": "markdown",
   "id": "9966a2a9-d5f4-40e0-ad7f-3417b9cabcbc",
   "metadata": {},
   "source": [
    "# Boxplots"
   ]
  },
  {
   "cell_type": "code",
   "execution_count": null,
   "id": "850d1e8d-013d-4ffc-b1ba-1188b7262b88",
   "metadata": {},
   "outputs": [],
   "source": []
  },
  {
   "cell_type": "markdown",
   "id": "3b0149ab-1a01-4e96-8c13-ebbfa8b4b9a2",
   "metadata": {},
   "source": [
    "# Examine correlations between numerical features"
   ]
  },
  {
   "cell_type": "code",
   "execution_count": null,
   "id": "2e296c43-bb76-49fa-bb75-d4de7a79f500",
   "metadata": {},
   "outputs": [],
   "source": [
    "corr_matrix = df_demo.select_dtypes(include='number').corr()\n",
    "sns.heatmap(corr_matrix, annot=True, cmap='coolwarm')\n",
    "plt.show()"
   ]
  },
  {
   "cell_type": "code",
   "execution_count": null,
   "id": "f69ff514-05c0-4441-be8e-8dd98f3fc9c6",
   "metadata": {},
   "outputs": [],
   "source": []
  },
  {
   "cell_type": "markdown",
   "id": "7cdb5909-cde5-4105-936d-1e8c36130cc7",
   "metadata": {},
   "source": [
    "# Barplots"
   ]
  },
  {
   "cell_type": "code",
   "execution_count": null,
   "id": "095c5597-4dc7-4815-afc4-35fa639df4b5",
   "metadata": {},
   "outputs": [],
   "source": []
  },
  {
   "cell_type": "code",
   "execution_count": null,
   "id": "5bfeea8e-3ff3-4e48-a7b6-b6ccb69e377b",
   "metadata": {},
   "outputs": [],
   "source": []
  },
  {
   "cell_type": "code",
   "execution_count": null,
   "id": "b6604545-2653-46e3-9406-97ec813a57a1",
   "metadata": {},
   "outputs": [],
   "source": []
  },
  {
   "cell_type": "code",
   "execution_count": null,
   "id": "7f5243ba-407c-47b3-ba58-aab0e1987747",
   "metadata": {},
   "outputs": [],
   "source": []
  },
  {
   "cell_type": "code",
   "execution_count": null,
   "id": "6ef30234-74f7-4292-b7d5-317a0d93c541",
   "metadata": {},
   "outputs": [],
   "source": []
  },
  {
   "cell_type": "code",
   "execution_count": null,
   "id": "4083c116-471f-4973-bc96-9d911ba2debb",
   "metadata": {},
   "outputs": [],
   "source": []
  },
  {
   "cell_type": "code",
   "execution_count": null,
   "id": "cf536aa1-b16c-4c53-874b-e4ca00ae0ed0",
   "metadata": {},
   "outputs": [],
   "source": []
  },
  {
   "cell_type": "code",
   "execution_count": null,
   "id": "c6406259-4a10-4d0f-a8e8-00e27a8a38f7",
   "metadata": {},
   "outputs": [],
   "source": []
  },
  {
   "cell_type": "code",
   "execution_count": null,
   "id": "3132cc18-4c6a-44e6-b6f7-958708e8f2c4",
   "metadata": {},
   "outputs": [],
   "source": []
  }
 ],
 "metadata": {
  "kernelspec": {
   "display_name": "Python [conda env:base] *",
   "language": "python",
   "name": "conda-base-py"
  },
  "language_info": {
   "codemirror_mode": {
    "name": "ipython",
    "version": 3
   },
   "file_extension": ".py",
   "mimetype": "text/x-python",
   "name": "python",
   "nbconvert_exporter": "python",
   "pygments_lexer": "ipython3",
   "version": "3.12.7"
  }
 },
 "nbformat": 4,
 "nbformat_minor": 5
}
