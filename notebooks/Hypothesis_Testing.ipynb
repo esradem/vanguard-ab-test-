{
 "cells": [
  {
   "cell_type": "code",
   "execution_count": 5,
   "id": "432946cb-54dc-465a-bc06-9a5f3419701e",
   "metadata": {},
   "outputs": [],
   "source": [
    "import pandas as pd\n",
    "import numpy as np\n",
    "import matplotlib.pyplot as plt\n",
    "import seaborn as sns\n",
    "from statsmodels.stats.proportion import proportions_ztest\n",
    "from scipy import stats\n",
    "from scipy.stats import chi2_contingency\n",
    "\n",
    "%matplotlib inline"
   ]
  },
  {
   "cell_type": "code",
   "execution_count": 6,
   "id": "4f76bad1-5773-4fb3-8b1d-1cfb12945de5",
   "metadata": {},
   "outputs": [
    {
     "name": "stdout",
     "output_type": "stream",
     "text": [
      "df_client columns: Index(['client_id', 'Variation'], dtype='object')\n",
      "Final df columns: Index(['client_id', 'Variation', 'clnt_tenure_yr', 'clnt_tenure_mnth',\n",
      "       'clnt_age', 'gendr', 'num_accts', 'bal', 'calls_6_mnth',\n",
      "       'logons_6_mnth', 'visitor_id', 'visit_id', 'process_step', 'date_time'],\n",
      "      dtype='object')\n"
     ]
    },
    {
     "data": {
      "text/html": [
       "<div>\n",
       "<style scoped>\n",
       "    .dataframe tbody tr th:only-of-type {\n",
       "        vertical-align: middle;\n",
       "    }\n",
       "\n",
       "    .dataframe tbody tr th {\n",
       "        vertical-align: top;\n",
       "    }\n",
       "\n",
       "    .dataframe thead th {\n",
       "        text-align: right;\n",
       "    }\n",
       "</style>\n",
       "<table border=\"1\" class=\"dataframe\">\n",
       "  <thead>\n",
       "    <tr style=\"text-align: right;\">\n",
       "      <th></th>\n",
       "      <th>client_id</th>\n",
       "      <th>Variation</th>\n",
       "      <th>clnt_tenure_yr</th>\n",
       "      <th>clnt_tenure_mnth</th>\n",
       "      <th>clnt_age</th>\n",
       "      <th>gendr</th>\n",
       "      <th>num_accts</th>\n",
       "      <th>bal</th>\n",
       "      <th>calls_6_mnth</th>\n",
       "      <th>logons_6_mnth</th>\n",
       "      <th>visitor_id</th>\n",
       "      <th>visit_id</th>\n",
       "      <th>process_step</th>\n",
       "      <th>date_time</th>\n",
       "    </tr>\n",
       "  </thead>\n",
       "  <tbody>\n",
       "    <tr>\n",
       "      <th>0</th>\n",
       "      <td>9988021</td>\n",
       "      <td>Test</td>\n",
       "      <td>5.0</td>\n",
       "      <td>64.0</td>\n",
       "      <td>79.0</td>\n",
       "      <td>U</td>\n",
       "      <td>2.0</td>\n",
       "      <td>189023.86</td>\n",
       "      <td>1.0</td>\n",
       "      <td>4.0</td>\n",
       "      <td>580560515_7732621733</td>\n",
       "      <td>781255054_21935453173_531117</td>\n",
       "      <td>step_3</td>\n",
       "      <td>2017-04-17 15:27:07</td>\n",
       "    </tr>\n",
       "    <tr>\n",
       "      <th>1</th>\n",
       "      <td>9988021</td>\n",
       "      <td>Test</td>\n",
       "      <td>5.0</td>\n",
       "      <td>64.0</td>\n",
       "      <td>79.0</td>\n",
       "      <td>U</td>\n",
       "      <td>2.0</td>\n",
       "      <td>189023.86</td>\n",
       "      <td>1.0</td>\n",
       "      <td>4.0</td>\n",
       "      <td>580560515_7732621733</td>\n",
       "      <td>781255054_21935453173_531117</td>\n",
       "      <td>step_2</td>\n",
       "      <td>2017-04-17 15:26:51</td>\n",
       "    </tr>\n",
       "    <tr>\n",
       "      <th>2</th>\n",
       "      <td>9988021</td>\n",
       "      <td>Test</td>\n",
       "      <td>5.0</td>\n",
       "      <td>64.0</td>\n",
       "      <td>79.0</td>\n",
       "      <td>U</td>\n",
       "      <td>2.0</td>\n",
       "      <td>189023.86</td>\n",
       "      <td>1.0</td>\n",
       "      <td>4.0</td>\n",
       "      <td>580560515_7732621733</td>\n",
       "      <td>781255054_21935453173_531117</td>\n",
       "      <td>step_3</td>\n",
       "      <td>2017-04-17 15:19:22</td>\n",
       "    </tr>\n",
       "    <tr>\n",
       "      <th>3</th>\n",
       "      <td>9988021</td>\n",
       "      <td>Test</td>\n",
       "      <td>5.0</td>\n",
       "      <td>64.0</td>\n",
       "      <td>79.0</td>\n",
       "      <td>U</td>\n",
       "      <td>2.0</td>\n",
       "      <td>189023.86</td>\n",
       "      <td>1.0</td>\n",
       "      <td>4.0</td>\n",
       "      <td>580560515_7732621733</td>\n",
       "      <td>781255054_21935453173_531117</td>\n",
       "      <td>step_2</td>\n",
       "      <td>2017-04-17 15:19:13</td>\n",
       "    </tr>\n",
       "    <tr>\n",
       "      <th>4</th>\n",
       "      <td>9988021</td>\n",
       "      <td>Test</td>\n",
       "      <td>5.0</td>\n",
       "      <td>64.0</td>\n",
       "      <td>79.0</td>\n",
       "      <td>U</td>\n",
       "      <td>2.0</td>\n",
       "      <td>189023.86</td>\n",
       "      <td>1.0</td>\n",
       "      <td>4.0</td>\n",
       "      <td>580560515_7732621733</td>\n",
       "      <td>781255054_21935453173_531117</td>\n",
       "      <td>step_3</td>\n",
       "      <td>2017-04-17 15:18:04</td>\n",
       "    </tr>\n",
       "  </tbody>\n",
       "</table>\n",
       "</div>"
      ],
      "text/plain": [
       "   client_id Variation  clnt_tenure_yr  clnt_tenure_mnth  clnt_age gendr  \\\n",
       "0    9988021      Test             5.0              64.0      79.0     U   \n",
       "1    9988021      Test             5.0              64.0      79.0     U   \n",
       "2    9988021      Test             5.0              64.0      79.0     U   \n",
       "3    9988021      Test             5.0              64.0      79.0     U   \n",
       "4    9988021      Test             5.0              64.0      79.0     U   \n",
       "\n",
       "   num_accts        bal  calls_6_mnth  logons_6_mnth            visitor_id  \\\n",
       "0        2.0  189023.86           1.0            4.0  580560515_7732621733   \n",
       "1        2.0  189023.86           1.0            4.0  580560515_7732621733   \n",
       "2        2.0  189023.86           1.0            4.0  580560515_7732621733   \n",
       "3        2.0  189023.86           1.0            4.0  580560515_7732621733   \n",
       "4        2.0  189023.86           1.0            4.0  580560515_7732621733   \n",
       "\n",
       "                       visit_id process_step            date_time  \n",
       "0  781255054_21935453173_531117       step_3  2017-04-17 15:27:07  \n",
       "1  781255054_21935453173_531117       step_2  2017-04-17 15:26:51  \n",
       "2  781255054_21935453173_531117       step_3  2017-04-17 15:19:22  \n",
       "3  781255054_21935453173_531117       step_2  2017-04-17 15:19:13  \n",
       "4  781255054_21935453173_531117       step_3  2017-04-17 15:18:04  "
      ]
     },
     "execution_count": 6,
     "metadata": {},
     "output_type": "execute_result"
    }
   ],
   "source": [
    "# Load the data\n",
    "base_url = 'https://raw.githubusercontent.com/data-bootcamp-v4/lessons/main/5_6_eda_inf_stats_tableau/project/files_for_project/'\n",
    "\n",
    "df_demo = pd.read_csv(base_url + 'df_final_demo.txt', delimiter=',')\n",
    "df_client = pd.read_csv(base_url + 'df_final_experiment_clients.txt', delimiter=',')\n",
    "df_web1 = pd.read_csv(base_url + 'df_final_web_data_pt_1.txt', delimiter=',')\n",
    "df_web2 = pd.read_csv(base_url + 'df_final_web_data_pt_2.txt', delimiter=',')\n",
    "\n",
    "df_web = pd.concat([df_web1, df_web2], ignore_index=True)\n",
    "\n",
    "# Check available columns\n",
    "print(\"df_client columns:\", df_client.columns)\n",
    "\n",
    "# Merge relevant data\n",
    "df = df_client.merge(df_demo, on='client_id', how='left')\n",
    "df = df.merge(df_web, on='client_id', how='left')\n",
    "\n",
    "# Display columns of final dataframe\n",
    "print(\"Final df columns:\", df.columns)\n",
    "\n",
    "df.head() "
   ]
  },
  {
   "cell_type": "code",
   "execution_count": null,
   "id": "1dbb2a92-664f-4084-b828-924aad95d650",
   "metadata": {},
   "outputs": [],
   "source": []
  },
  {
   "cell_type": "code",
   "execution_count": 7,
   "id": "9e10d5d5-1cb7-4729-9f5c-32dc0e697583",
   "metadata": {},
   "outputs": [
    {
     "name": "stdout",
     "output_type": "stream",
     "text": [
      "['step_3' 'step_2' 'step_1' 'start' 'confirm']\n",
      "Final step: confirm\n"
     ]
    },
    {
     "data": {
      "text/html": [
       "<div>\n",
       "<style scoped>\n",
       "    .dataframe tbody tr th:only-of-type {\n",
       "        vertical-align: middle;\n",
       "    }\n",
       "\n",
       "    .dataframe tbody tr th {\n",
       "        vertical-align: top;\n",
       "    }\n",
       "\n",
       "    .dataframe thead th {\n",
       "        text-align: right;\n",
       "    }\n",
       "</style>\n",
       "<table border=\"1\" class=\"dataframe\">\n",
       "  <thead>\n",
       "    <tr style=\"text-align: right;\">\n",
       "      <th></th>\n",
       "      <th>client_id</th>\n",
       "      <th>Variation</th>\n",
       "      <th>completed</th>\n",
       "      <th>clnt_age</th>\n",
       "      <th>clnt_tenure_yr</th>\n",
       "      <th>gendr</th>\n",
       "    </tr>\n",
       "  </thead>\n",
       "  <tbody>\n",
       "    <tr>\n",
       "      <th>0</th>\n",
       "      <td>169</td>\n",
       "      <td>None</td>\n",
       "      <td>1</td>\n",
       "      <td>47.5</td>\n",
       "      <td>21.0</td>\n",
       "      <td>M</td>\n",
       "    </tr>\n",
       "    <tr>\n",
       "      <th>1</th>\n",
       "      <td>555</td>\n",
       "      <td>Test</td>\n",
       "      <td>1</td>\n",
       "      <td>29.5</td>\n",
       "      <td>3.0</td>\n",
       "      <td>U</td>\n",
       "    </tr>\n",
       "    <tr>\n",
       "      <th>2</th>\n",
       "      <td>647</td>\n",
       "      <td>Test</td>\n",
       "      <td>1</td>\n",
       "      <td>57.5</td>\n",
       "      <td>12.0</td>\n",
       "      <td>M</td>\n",
       "    </tr>\n",
       "    <tr>\n",
       "      <th>3</th>\n",
       "      <td>722</td>\n",
       "      <td>None</td>\n",
       "      <td>1</td>\n",
       "      <td>59.5</td>\n",
       "      <td>11.0</td>\n",
       "      <td>F</td>\n",
       "    </tr>\n",
       "    <tr>\n",
       "      <th>4</th>\n",
       "      <td>934</td>\n",
       "      <td>Test</td>\n",
       "      <td>0</td>\n",
       "      <td>51.0</td>\n",
       "      <td>9.0</td>\n",
       "      <td>F</td>\n",
       "    </tr>\n",
       "  </tbody>\n",
       "</table>\n",
       "</div>"
      ],
      "text/plain": [
       "   client_id Variation  completed  clnt_age  clnt_tenure_yr gendr\n",
       "0        169      None          1      47.5            21.0     M\n",
       "1        555      Test          1      29.5             3.0     U\n",
       "2        647      Test          1      57.5            12.0     M\n",
       "3        722      None          1      59.5            11.0     F\n",
       "4        934      Test          0      51.0             9.0     F"
      ]
     },
     "execution_count": 7,
     "metadata": {},
     "output_type": "execute_result"
    }
   ],
   "source": [
    "# Check unique steps\n",
    "print(df['process_step'].unique())\n",
    "\n",
    "# Assume last step is the final one\n",
    "final_step = df['process_step'].dropna().unique().tolist()[-1]\n",
    "print(\"Final step:\", final_step)\n",
    "\n",
    "# Tag completed users\n",
    "df['completed'] = df['process_step'] == final_step\n",
    "\n",
    "# Only keep one row per client, assuming final step means completed\n",
    "df = df.groupby('client_id').agg({\n",
    "    'Variation': 'first',\n",
    "    'completed': 'max',\n",
    "    'clnt_age': 'first',\n",
    "    'clnt_tenure_yr': 'first',\n",
    "    'gendr': 'first'\n",
    "}).reset_index()\n",
    "\n",
    "df['completed'] = df['completed'].astype(int)\n",
    "df.head()"
   ]
  },
  {
   "cell_type": "code",
   "execution_count": null,
   "id": "44ea92fc-56b5-484f-b8a2-320594acaba9",
   "metadata": {},
   "outputs": [],
   "source": []
  },
  {
   "cell_type": "code",
   "execution_count": 8,
   "id": "cb9d247d-4de7-4321-8a76-16605c9b18f1",
   "metadata": {},
   "outputs": [
    {
     "name": "stdout",
     "output_type": "stream",
     "text": [
      "completed     0      1\n",
      "Variation             \n",
      "Control    8098  15434\n",
      "Test       8281  18687\n",
      "Z-statistic: 8.8745, p-value: 0.0000\n",
      "Reject H0: Significant difference in completion rate between groups.\n"
     ]
    }
   ],
   "source": [
    "completion_counts = df.groupby('Variation')['completed'].value_counts().unstack().fillna(0)\n",
    "print(completion_counts)\n",
    "\n",
    "success = np.array([completion_counts.loc['Test', 1], completion_counts.loc['Control', 1]])\n",
    "nobs = np.array([completion_counts.loc['Test'].sum(), completion_counts.loc['Control'].sum()])\n",
    "\n",
    "stat, pval = proportions_ztest(success, nobs)\n",
    "print(f\"Z-statistic: {stat:.4f}, p-value: {pval:.4f}\")\n",
    "if pval < 0.05:\n",
    "    print(\"Reject H0: Significant difference in completion rate between groups.\")\n",
    "else:\n",
    "    print(\"Fail to reject H0: No significant difference.\") "
   ]
  },
  {
   "cell_type": "code",
   "execution_count": null,
   "id": "57ed2702-35b0-47b1-9a9f-6ac5de766e26",
   "metadata": {},
   "outputs": [],
   "source": []
  },
  {
   "cell_type": "code",
   "execution_count": 9,
   "id": "1b786626-ac3b-44a0-bdc8-6ff18f137641",
   "metadata": {},
   "outputs": [
    {
     "name": "stdout",
     "output_type": "stream",
     "text": [
      "Test Rate: 0.6929, Control Rate: 0.6559, Difference: 0.0371\n",
      "Fail to reject H0: Increase does not justify cost.\n"
     ]
    }
   ],
   "source": [
    "test_rate = success[0] / nobs[0]\n",
    "control_rate = success[1] / nobs[1]\n",
    "diff = test_rate - control_rate\n",
    "\n",
    "print(f\"Test Rate: {test_rate:.4f}, Control Rate: {control_rate:.4f}, Difference: {diff:.4f}\")\n",
    "\n",
    "# Test if improvement is greater than 5%\n",
    "threshold = 0.05\n",
    "stat, pval = proportions_ztest(success, nobs, alternative='larger')\n",
    "\n",
    "if diff >= threshold and pval < 0.05:\n",
    "    print(\"Reject H0: The increase is significant and exceeds the 5% threshold.\")\n",
    "else:\n",
    "    print(\"Fail to reject H0: Increase does not justify cost.\")"
   ]
  },
  {
   "cell_type": "code",
   "execution_count": null,
   "id": "e309cd13-7061-4aee-8439-b61255a9e14d",
   "metadata": {},
   "outputs": [],
   "source": []
  },
  {
   "cell_type": "code",
   "execution_count": 10,
   "id": "2765948d-fc11-42d0-b7c8-7549c7e9de5e",
   "metadata": {},
   "outputs": [
    {
     "name": "stdout",
     "output_type": "stream",
     "text": [
      "T-statistic: 2.4161, p-value: 0.0157\n",
      "Reject H0: Average age differs between groups.\n"
     ]
    }
   ],
   "source": [
    "control_age = df[df['Variation'] == 'Control']['clnt_age'].dropna()\n",
    "test_age = df[df['Variation'] == 'Test']['clnt_age'].dropna()\n",
    "\n",
    "tstat, pval = stats.ttest_ind(control_age, test_age, equal_var=False)\n",
    "print(f\"T-statistic: {tstat:.4f}, p-value: {pval:.4f}\")\n",
    "if pval < 0.05:\n",
    "    print(\"Reject H0: Average age differs between groups.\")\n",
    "else:\n",
    "    print(\"Fail to reject H0: No significant difference in age.\")\n"
   ]
  },
  {
   "cell_type": "code",
   "execution_count": null,
   "id": "cb6eaa08-ef01-442c-a2e2-57ea43d85466",
   "metadata": {},
   "outputs": [],
   "source": []
  },
  {
   "cell_type": "code",
   "execution_count": 11,
   "id": "0222d844-3368-4279-a4ff-9a814c341598",
   "metadata": {},
   "outputs": [
    {
     "name": "stderr",
     "output_type": "stream",
     "text": [
      "/var/folders/v_/rkcyqdxx47vbjgvjddywrbrh0000gn/T/ipykernel_17963/3996203377.py:1: FutureWarning: \n",
      "\n",
      "The `ci` parameter is deprecated. Use `errorbar=('ci', 95)` for the same effect.\n",
      "\n",
      "  sns.barplot(data=df, x='Variation', y='completed', estimator=np.mean, ci=95)\n"
     ]
    },
    {
     "data": {
      "image/png": "[encoded data removed]",
      "text/plain": [
       "<Figure size 640x480 with 1 Axes>"
      ]
     },
     "metadata": {},
     "output_type": "display_data"
    }
   ],
   "source": [
    "sns.barplot(data=df, x='Variation', y='completed', estimator=np.mean, ci=95)\n",
    "plt.title('Completion Rate by Group')\n",
    "plt.ylabel('Completion Rate')\n",
    "plt.grid(axis='y', linestyle='--', alpha=0.6)\n",
    "plt.show()\n"
   ]
  },
  {
   "cell_type": "code",
   "execution_count": null,
   "id": "c2609556-92e6-42ec-b372-463b12fdc225",
   "metadata": {},
   "outputs": [],
   "source": []
  },
  {
   "cell_type": "code",
   "execution_count": 12,
   "id": "bdd2fbb5-ba79-4c3a-a44d-6749bed7ab69",
   "metadata": {},
   "outputs": [
    {
     "data": {
      "image/png": "[encoded data removed]",
      "text/plain": [
       "<Figure size 640x480 with 1 Axes>"
      ]
     },
     "metadata": {},
     "output_type": "display_data"
    }
   ],
   "source": [
    "sns.boxplot(data=df, x='Variation', y='clnt_age')\n",
    "plt.title('Age Distribution by Group')\n",
    "plt.grid(axis='y', linestyle='--', alpha=0.6)\n",
    "plt.show()\n"
   ]
  },
  {
   "cell_type": "code",
   "execution_count": null,
   "id": "00046f44-6f7c-4371-8299-71a807caee60",
   "metadata": {},
   "outputs": [],
   "source": []
  },
  {
   "cell_type": "code",
   "execution_count": 13,
   "id": "499b3d40-fad9-4b49-8a54-eca931358ef3",
   "metadata": {},
   "outputs": [
    {
     "name": "stdout",
     "output_type": "stream",
     "text": [
      "completed     0      1\n",
      "Variation             \n",
      "Control    8098  15434\n",
      "Test       8281  18687\n",
      "Z-statistic: 8.8745, p-value: 0.0000\n",
      "Reject H0: Significant difference in completion rate between groups.\n"
     ]
    }
   ],
   "source": [
    "completion_counts = df.groupby('Variation')['completed'].value_counts().unstack().fillna(0)\n",
    "print(completion_counts)\n",
    "\n",
    "success = np.array([completion_counts.loc['Test', 1], completion_counts.loc['Control', 1]])\n",
    "nobs = np.array([completion_counts.loc['Test'].sum(), completion_counts.loc['Control'].sum()])\n",
    "\n",
    "stat, pval = proportions_ztest(success, nobs)\n",
    "print(f\"Z-statistic: {stat:.4f}, p-value: {pval:.4f}\")\n",
    "if pval < 0.05:\n",
    "    print(\"Reject H0: Significant difference in completion rate between groups.\")\n",
    "else:\n",
    "    print(\"Fail to reject H0: No significant difference.\")\n"
   ]
  },
  {
   "cell_type": "code",
   "execution_count": null,
   "id": "31a5848a-4d89-4957-b22e-fec19dde0115",
   "metadata": {},
   "outputs": [],
   "source": []
  },
  {
   "cell_type": "code",
   "execution_count": 14,
   "id": "57c6dc8e-05c4-4156-95b7-285b2a037354",
   "metadata": {},
   "outputs": [
    {
     "name": "stdout",
     "output_type": "stream",
     "text": [
      "Test Rate: 0.6929, Control Rate: 0.6559, Difference: 0.0371\n",
      "Fail to reject H0: Increase does not justify cost.\n"
     ]
    }
   ],
   "source": [
    "test_rate = success[0] / nobs[0]\n",
    "control_rate = success[1] / nobs[1]\n",
    "diff = test_rate - control_rate\n",
    "\n",
    "print(f\"Test Rate: {test_rate:.4f}, Control Rate: {control_rate:.4f}, Difference: {diff:.4f}\")\n",
    "\n",
    "# Test if improvement is greater than 5%\n",
    "threshold = 0.05\n",
    "stat, pval = proportions_ztest(success, nobs, alternative='larger')\n",
    "\n",
    "if diff >= threshold and pval < 0.05:\n",
    "    print(\"Reject H0: The increase is significant and exceeds the 5% threshold.\")\n",
    "else:\n",
    "    print(\"Fail to reject H0: Increase does not justify cost.\")\n"
   ]
  },
  {
   "cell_type": "code",
   "execution_count": null,
   "id": "740c4704-d7a4-43a7-aad8-944a0ac7ba45",
   "metadata": {},
   "outputs": [],
   "source": []
  },
  {
   "cell_type": "code",
   "execution_count": 15,
   "id": "fcc5473b-751d-4b22-9b1b-d8e0049ffcef",
   "metadata": {},
   "outputs": [
    {
     "name": "stdout",
     "output_type": "stream",
     "text": [
      "T-statistic: 2.4161, p-value: 0.0157\n",
      "Reject H0: Average age differs between groups.\n"
     ]
    }
   ],
   "source": [
    "control_age = df[df['Variation'] == 'Control']['clnt_age'].dropna()\n",
    "test_age = df[df['Variation'] == 'Test']['clnt_age'].dropna()\n",
    "\n",
    "tstat, pval = stats.ttest_ind(control_age, test_age, equal_var=False)\n",
    "print(f\"T-statistic: {tstat:.4f}, p-value: {pval:.4f}\")\n",
    "if pval < 0.05:\n",
    "    print(\"Reject H0: Average age differs between groups.\")\n",
    "else:\n",
    "    print(\"Fail to reject H0: No significant difference in age.\")\n"
   ]
  },
  {
   "cell_type": "code",
   "execution_count": null,
   "id": "3a7ef8d2-d8dc-4a1e-bd5c-b66427443619",
   "metadata": {},
   "outputs": [],
   "source": []
  },
  {
   "cell_type": "code",
   "execution_count": 16,
   "id": "8c096ff5-1aec-4ac2-88a0-c44755b80c17",
   "metadata": {},
   "outputs": [
    {
     "name": "stdout",
     "output_type": "stream",
     "text": [
      "completed     0      1\n",
      "gendr                 \n",
      "F          7870  14876\n",
      "M          7422  16302\n",
      "Z-statistic: 7.6019, p-value: 0.0000\n",
      "Reject H0: Significant difference in completion rates between genders.\n"
     ]
    }
   ],
   "source": [
    "# Filter out unknown genders\n",
    "df_gender = df[df['gendr'].isin(['M', 'F'])].copy()\n",
    "\n",
    "# Group by gender\n",
    "gender_completion = df_gender.groupby('gendr')['completed'].value_counts().unstack().fillna(0)\n",
    "print(gender_completion)\n",
    "\n",
    "# Z-test setup: Male vs Female\n",
    "success = np.array([gender_completion.loc['M', 1], gender_completion.loc['F', 1]])\n",
    "nobs = np.array([gender_completion.loc['M'].sum(), gender_completion.loc['F'].sum()])\n",
    "\n",
    "stat, pval = proportions_ztest(success, nobs)\n",
    "print(f\"Z-statistic: {stat:.4f}, p-value: {pval:.4f}\")\n",
    "\n",
    "if pval < 0.05:\n",
    "    print(\"Reject H0: Significant difference in completion rates between genders.\")\n",
    "else:\n",
    "    print(\"Fail to reject H0: No significant gender-based difference in completion.\")"
   ]
  },
  {
   "cell_type": "code",
   "execution_count": null,
   "id": "267d89fe-f6c8-4c2d-b76f-7833d7378cf0",
   "metadata": {},
   "outputs": [],
   "source": []
  },
  {
   "cell_type": "code",
   "execution_count": 17,
   "id": "3fc7f74a-c476-4ef1-8838-ae9ec954fd8f",
   "metadata": {},
   "outputs": [
    {
     "name": "stdout",
     "output_type": "stream",
     "text": [
      "--- Control Group ---\n",
      "Z-statistic: 4.0341, p-value: 0.0001\n",
      "Reject H0: Significant gender difference in completion rate.\n",
      "\n",
      "--- Test Group ---\n",
      "Z-statistic: 5.5573, p-value: 0.0000\n",
      "Reject H0: Significant gender difference in completion rate.\n",
      "\n"
     ]
    }
   ],
   "source": [
    "# Function to run and print results of gender z-test within each group\n",
    "def gender_ztest_within_group(group_name):\n",
    "    subset = df[(df['Variation'] == group_name) & (df['gendr'].isin(['M', 'F']))]\n",
    "    completion = subset.groupby('gendr')['completed'].value_counts().unstack().fillna(0)\n",
    "\n",
    "    success = np.array([completion.loc['M', 1], completion.loc['F', 1]])\n",
    "    nobs = np.array([completion.loc['M'].sum(), completion.loc['F'].sum()])\n",
    "\n",
    "    stat, pval = proportions_ztest(success, nobs)\n",
    "    print(f\"--- {group_name} Group ---\")\n",
    "    print(f\"Z-statistic: {stat:.4f}, p-value: {pval:.4f}\")\n",
    "    if pval < 0.05:\n",
    "        print(\"Reject H0: Significant gender difference in completion rate.\")\n",
    "    else:\n",
    "        print(\"Fail to reject H0: No significant gender difference.\")\n",
    "    print()\n",
    "\n",
    "# Run tests for each group\n",
    "gender_ztest_within_group('Control')\n",
    "gender_ztest_within_group('Test')\n"
   ]
  },
  {
   "cell_type": "code",
   "execution_count": null,
   "id": "0520638a-97cb-4cfa-9cdd-da1c06a8874d",
   "metadata": {},
   "outputs": [],
   "source": []
  },
  {
   "cell_type": "code",
   "execution_count": 18,
   "id": "fe1ea5c7-54d7-4392-8c83-29f5836a0403",
   "metadata": {},
   "outputs": [
    {
     "name": "stdout",
     "output_type": "stream",
     "text": [
      "Contingency Table:\n",
      " completed     0      1\n",
      "gendr                 \n",
      "F          7870  14876\n",
      "M          7422  16302\n",
      "Chi-Square Statistic: 57.6390\n",
      "Degrees of Freedom: 1\n",
      "P-value: 0.0000\n",
      "Reject H0: There is a significant relationship between gender and completion.\n"
     ]
    }
   ],
   "source": [
    "df_gender = df[df['gendr'].isin(['M', 'F'])]\n",
    "contingency = pd.crosstab(df_gender['gendr'], df_gender['completed'])\n",
    "print(\"Contingency Table:\\n\", contingency)\n",
    "chi2, pval, dof, expected = chi2_contingency(contingency)\n",
    "print(f\"Chi-Square Statistic: {chi2:.4f}\")\n",
    "print(f\"Degrees of Freedom: {dof}\")\n",
    "print(f\"P-value: {pval:.4f}\")\n",
    "if pval < 0.05:\n",
    "    print(\"Reject H0: There is a significant relationship between gender and completion.\")\n",
    "else:\n",
    "    print(\"Fail to reject H0: No significant relationship between gender and completion.\")"
   ]
  },
  {
   "cell_type": "code",
   "execution_count": null,
   "id": "4b35c3c2-8478-4aab-880c-8c3e342e4b96",
   "metadata": {},
   "outputs": [],
   "source": []
  },
  {
   "cell_type": "code",
   "execution_count": null,
   "id": "af747770-a801-4ac8-92ed-be8754beda68",
   "metadata": {},
   "outputs": [],
   "source": []
  },
  {
   "cell_type": "code",
   "execution_count": 19,
   "id": "5219b63a-a6ac-440a-b693-b5faa352321d",
   "metadata": {},
   "outputs": [
    {
     "name": "stdout",
     "output_type": "stream",
     "text": [
      "--- Control Group ---\n",
      "Contingency Table:\n",
      " completed     0     1\n",
      "gendr                \n",
      "F          2763  4780\n",
      "M          2673  5297\n",
      "Chi-Square Statistic: 16.1382\n",
      "P-value: 0.0001\n",
      "Reject H0: Significant relationship between gender and completion in this group.\n",
      "\n",
      "--- Test Group ---\n",
      "Contingency Table:\n",
      " completed     0     1\n",
      "gendr                \n",
      "F          2888  5828\n",
      "M          2627  6350\n",
      "Chi-Square Statistic: 30.7035\n",
      "P-value: 0.0000\n",
      "Reject H0: Significant relationship between gender and completion in this group.\n",
      "\n"
     ]
    }
   ],
   "source": [
    "def chi_square_gender_within(group_name):\n",
    "    subset = df[(df['Variation'] == group_name) & (df['gendr'].isin(['M', 'F']))]\n",
    "    contingency = pd.crosstab(subset['gendr'], subset['completed'])\n",
    "    print(f\"--- {group_name} Group ---\")\n",
    "    print(\"Contingency Table:\\n\", contingency)\n",
    "    chi2, pval, dof, expected = chi2_contingency(contingency)\n",
    "    print(f\"Chi-Square Statistic: {chi2:.4f}\")\n",
    "    print(f\"P-value: {pval:.4f}\")\n",
    "    if pval < 0.05:\n",
    "        print(\"Reject H0: Significant relationship between gender and completion in this group.\")\n",
    "    else:\n",
    "        print(\"Fail to reject H0: No significant gender relationship in this group.\")\n",
    "    print()\n",
    "\n",
    "chi_square_gender_within('Control')\n",
    "chi_square_gender_within('Test')"
   ]
  },
  {
   "cell_type": "code",
   "execution_count": null,
   "id": "64436840-ccba-49a7-bd7f-d48d8cf7a285",
   "metadata": {},
   "outputs": [],
   "source": []
  },
  {
   "cell_type": "code",
   "execution_count": 20,
   "id": "85221e36-e794-4fe3-818e-2c8a1205e1b4",
   "metadata": {},
   "outputs": [
    {
     "name": "stderr",
     "output_type": "stream",
     "text": [
      "/var/folders/v_/rkcyqdxx47vbjgvjddywrbrh0000gn/T/ipykernel_17963/4078790309.py:1: FutureWarning: \n",
      "\n",
      "The `ci` parameter is deprecated. Use `errorbar=('ci', 95)` for the same effect.\n",
      "\n",
      "  sns.barplot(data=df[df['gendr'].isin(['M', 'F'])], x='gendr', y='completed', hue='Variation', estimator=np.mean, ci=95)\n"
     ]
    },
    {
     "data": {
      "image/png": "[encoded data removed]",
      "text/plain": [
       "<Figure size 640x480 with 1 Axes>"
      ]
     },
     "metadata": {},
     "output_type": "display_data"
    }
   ],
   "source": [
    "sns.barplot(data=df[df['gendr'].isin(['M', 'F'])], x='gendr', y='completed', hue='Variation', estimator=np.mean, ci=95)\n",
    "plt.title('Completion Rate by Gender within Control and Test Groups')\n",
    "plt.ylabel('Completion Rate')\n",
    "plt.xlabel('Gender')\n",
    "plt.grid(axis='y', linestyle='--', alpha=0.6)\n",
    "plt.show()"
   ]
  },
  {
   "cell_type": "code",
   "execution_count": null,
   "id": "86fc2282-8610-4cac-bd2a-b49e8fe2077d",
   "metadata": {},
   "outputs": [],
   "source": []
  }
 ],
 "metadata": {
  "kernelspec": {
   "display_name": "Python [conda env:base] *",
   "language": "python",
   "name": "conda-base-py"
  },
  "language_info": {
   "codemirror_mode": {
    "name": "ipython",
    "version": 3
   },
   "file_extension": ".py",
   "mimetype": "text/x-python",
   "name": "python",
   "nbconvert_exporter": "python",
   "pygments_lexer": "ipython3",
   "version": "3.12.7"
  }
 },
 "nbformat": 4,
 "nbformat_minor": 5
}
