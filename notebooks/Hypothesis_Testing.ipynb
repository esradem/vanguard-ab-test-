{
 "cells": [
  {
   "cell_type": "code",
   "execution_count": null,
   "id": "432946cb-54dc-465a-bc06-9a5f3419701e",
   "metadata": {},
   "outputs": [],
   "source": [
    "import pandas as pd\n",
    "import numpy as np\n",
    "import matplotlib.pyplot as plt\n",
    "import seaborn as sns\n",
    "from statsmodels.stats.proportion import proportions_ztest\n",
    "from scipy import stats\n",
    "from scipy.stats import chi2_contingency\n",
    "\n",
    "%matplotlib inline"
   ]
  },
  {
   "cell_type": "code",
   "execution_count": null,
   "id": "4f76bad1-5773-4fb3-8b1d-1cfb12945de5",
   "metadata": {},
   "outputs": [],
   "source": [
    "# Load the data\n",
    "base_url = 'https://raw.githubusercontent.com/data-bootcamp-v4/lessons/main/5_6_eda_inf_stats_tableau/project/files_for_project/'\n",
    "\n",
    "df_demo = pd.read_csv(base_url + 'df_final_demo.txt', delimiter=',')\n",
    "df_client = pd.read_csv(base_url + 'df_final_experiment_clients.txt', delimiter=',')\n",
    "df_web1 = pd.read_csv(base_url + 'df_final_web_data_pt_1.txt', delimiter=',')\n",
    "df_web2 = pd.read_csv(base_url + 'df_final_web_data_pt_2.txt', delimiter=',')\n",
    "\n",
    "df_web = pd.concat([df_web1, df_web2], ignore_index=True)\n",
    "\n",
    "# Check available columns\n",
    "print(\"df_client columns:\", df_client.columns)\n",
    "\n",
    "# Merge relevant data\n",
    "df = df_client.merge(df_demo, on='client_id', how='left')\n",
    "df = df.merge(df_web, on='client_id', how='left')\n",
    "\n",
    "# Display columns of final dataframe\n",
    "print(\"Final df columns:\", df.columns)\n",
    "\n",
    "df.head() "
   ]
  },
  {
   "cell_type": "code",
   "execution_count": null,
   "id": "1dbb2a92-664f-4084-b828-924aad95d650",
   "metadata": {},
   "outputs": [],
   "source": []
  },
  {
   "cell_type": "code",
   "execution_count": null,
   "id": "9e10d5d5-1cb7-4729-9f5c-32dc0e697583",
   "metadata": {},
   "outputs": [],
   "source": [
    "# Check unique steps\n",
    "print(df['process_step'].unique())\n",
    "\n",
    "# Assume last step is the final one\n",
    "final_step = df['process_step'].dropna().unique().tolist()[-1]\n",
    "print(\"Final step:\", final_step)\n",
    "\n",
    "# Tag completed users\n",
    "df['completed'] = df['process_step'] == final_step\n",
    "\n",
    "# Only keep one row per client, assuming final step means completed\n",
    "df = df.groupby('client_id').agg({\n",
    "    'Variation': 'first',\n",
    "    'completed': 'max',\n",
    "    'clnt_age': 'first',\n",
    "    'clnt_tenure_yr': 'first',\n",
    "    'gendr': 'first'\n",
    "}).reset_index()\n",
    "\n",
    "df['completed'] = df['completed'].astype(int)\n",
    "df.head()"
   ]
  },
  {
   "cell_type": "code",
   "execution_count": null,
   "id": "44ea92fc-56b5-484f-b8a2-320594acaba9",
   "metadata": {},
   "outputs": [],
   "source": []
  },
  {
   "cell_type": "code",
   "execution_count": null,
   "id": "cb9d247d-4de7-4321-8a76-16605c9b18f1",
   "metadata": {},
   "outputs": [],
   "source": [
    "completion_counts = df.groupby('Variation')['completed'].value_counts().unstack().fillna(0)\n",
    "print(completion_counts)\n",
    "\n",
    "success = np.array([completion_counts.loc['Test', 1], completion_counts.loc['Control', 1]])\n",
    "nobs = np.array([completion_counts.loc['Test'].sum(), completion_counts.loc['Control'].sum()])\n",
    "\n",
    "stat, pval = proportions_ztest(success, nobs)\n",
    "print(f\"Z-statistic: {stat:.4f}, p-value: {pval:.4f}\")\n",
    "if pval < 0.05:\n",
    "    print(\"Reject H0: Significant difference in completion rate between groups.\")\n",
    "else:\n",
    "    print(\"Fail to reject H0: No significant difference.\") "
   ]
  },
  {
   "cell_type": "code",
   "execution_count": null,
   "id": "57ed2702-35b0-47b1-9a9f-6ac5de766e26",
   "metadata": {},
   "outputs": [],
   "source": []
  },
  {
   "cell_type": "code",
   "execution_count": null,
   "id": "1b786626-ac3b-44a0-bdc8-6ff18f137641",
   "metadata": {},
   "outputs": [],
   "source": [
    "test_rate = success[0] / nobs[0]\n",
    "control_rate = success[1] / nobs[1]\n",
    "diff = test_rate - control_rate\n",
    "\n",
    "print(f\"Test Rate: {test_rate:.4f}, Control Rate: {control_rate:.4f}, Difference: {diff:.4f}\")\n",
    "\n",
    "# Test if improvement is greater than 5%\n",
    "threshold = 0.05\n",
    "stat, pval = proportions_ztest(success, nobs, alternative='larger')\n",
    "\n",
    "if diff >= threshold and pval < 0.05:\n",
    "    print(\"Reject H0: The increase is significant and exceeds the 5% threshold.\")\n",
    "else:\n",
    "    print(\"Fail to reject H0: Increase does not justify cost.\")"
   ]
  },
  {
   "cell_type": "code",
   "execution_count": null,
   "id": "e309cd13-7061-4aee-8439-b61255a9e14d",
   "metadata": {},
   "outputs": [],
   "source": []
  },
  {
   "cell_type": "code",
   "execution_count": null,
   "id": "2765948d-fc11-42d0-b7c8-7549c7e9de5e",
   "metadata": {},
   "outputs": [],
   "source": [
    "control_age = df[df['Variation'] == 'Control']['clnt_age'].dropna()\n",
    "test_age = df[df['Variation'] == 'Test']['clnt_age'].dropna()\n",
    "\n",
    "tstat, pval = stats.ttest_ind(control_age, test_age, equal_var=False)\n",
    "print(f\"T-statistic: {tstat:.4f}, p-value: {pval:.4f}\")\n",
    "if pval < 0.05:\n",
    "    print(\"Reject H0: Average age differs between groups.\")\n",
    "else:\n",
    "    print(\"Fail to reject H0: No significant difference in age.\")\n"
   ]
  },
  {
   "cell_type": "code",
   "execution_count": null,
   "id": "cb6eaa08-ef01-442c-a2e2-57ea43d85466",
   "metadata": {},
   "outputs": [],
   "source": []
  },
  {
   "cell_type": "code",
   "execution_count": null,
   "id": "0222d844-3368-4279-a4ff-9a814c341598",
   "metadata": {},
   "outputs": [],
   "source": [
    "sns.barplot(data=df, x='Variation', y='completed', estimator=np.mean, ci=95)\n",
    "plt.title('Completion Rate by Group')\n",
    "plt.ylabel('Completion Rate')\n",
    "plt.grid(axis='y', linestyle='--', alpha=0.6)\n",
    "plt.show()\n"
   ]
  },
  {
   "cell_type": "code",
   "execution_count": null,
   "id": "c2609556-92e6-42ec-b372-463b12fdc225",
   "metadata": {},
   "outputs": [],
   "source": []
  },
  {
   "cell_type": "code",
   "execution_count": null,
   "id": "bdd2fbb5-ba79-4c3a-a44d-6749bed7ab69",
   "metadata": {},
   "outputs": [],
   "source": [
    "sns.boxplot(data=df, x='Variation', y='clnt_age')\n",
    "plt.title('Age Distribution by Group')\n",
    "plt.grid(axis='y', linestyle='--', alpha=0.6)\n",
    "plt.show()\n"
   ]
  },
  {
   "cell_type": "code",
   "execution_count": null,
   "id": "00046f44-6f7c-4371-8299-71a807caee60",
   "metadata": {},
   "outputs": [],
   "source": []
  },
  {
   "cell_type": "code",
   "execution_count": null,
   "id": "499b3d40-fad9-4b49-8a54-eca931358ef3",
   "metadata": {},
   "outputs": [],
   "source": [
    "completion_counts = df.groupby('Variation')['completed'].value_counts().unstack().fillna(0)\n",
    "print(completion_counts)\n",
    "\n",
    "success = np.array([completion_counts.loc['Test', 1], completion_counts.loc['Control', 1]])\n",
    "nobs = np.array([completion_counts.loc['Test'].sum(), completion_counts.loc['Control'].sum()])\n",
    "\n",
    "stat, pval = proportions_ztest(success, nobs)\n",
    "print(f\"Z-statistic: {stat:.4f}, p-value: {pval:.4f}\")\n",
    "if pval < 0.05:\n",
    "    print(\"Reject H0: Significant difference in completion rate between groups.\")\n",
    "else:\n",
    "    print(\"Fail to reject H0: No significant difference.\")\n"
   ]
  },
  {
   "cell_type": "code",
   "execution_count": null,
   "id": "31a5848a-4d89-4957-b22e-fec19dde0115",
   "metadata": {},
   "outputs": [],
   "source": []
  },
  {
   "cell_type": "code",
   "execution_count": null,
   "id": "57c6dc8e-05c4-4156-95b7-285b2a037354",
   "metadata": {},
   "outputs": [],
   "source": [
    "test_rate = success[0] / nobs[0]\n",
    "control_rate = success[1] / nobs[1]\n",
    "diff = test_rate - control_rate\n",
    "\n",
    "print(f\"Test Rate: {test_rate:.4f}, Control Rate: {control_rate:.4f}, Difference: {diff:.4f}\")\n",
    "\n",
    "# Test if improvement is greater than 5%\n",
    "threshold = 0.05\n",
    "stat, pval = proportions_ztest(success, nobs, alternative='larger')\n",
    "\n",
    "if diff >= threshold and pval < 0.05:\n",
    "    print(\"Reject H0: The increase is significant and exceeds the 5% threshold.\")\n",
    "else:\n",
    "    print(\"Fail to reject H0: Increase does not justify cost.\")\n"
   ]
  },
  {
   "cell_type": "code",
   "execution_count": null,
   "id": "740c4704-d7a4-43a7-aad8-944a0ac7ba45",
   "metadata": {},
   "outputs": [],
   "source": []
  },
  {
   "cell_type": "code",
   "execution_count": null,
   "id": "fcc5473b-751d-4b22-9b1b-d8e0049ffcef",
   "metadata": {},
   "outputs": [],
   "source": [
    "control_age = df[df['Variation'] == 'Control']['clnt_age'].dropna()\n",
    "test_age = df[df['Variation'] == 'Test']['clnt_age'].dropna()\n",
    "\n",
    "tstat, pval = stats.ttest_ind(control_age, test_age, equal_var=False)\n",
    "print(f\"T-statistic: {tstat:.4f}, p-value: {pval:.4f}\")\n",
    "if pval < 0.05:\n",
    "    print(\"Reject H0: Average age differs between groups.\")\n",
    "else:\n",
    "    print(\"Fail to reject H0: No significant difference in age.\")\n"
   ]
  },
  {
   "cell_type": "code",
   "execution_count": null,
   "id": "3a7ef8d2-d8dc-4a1e-bd5c-b66427443619",
   "metadata": {},
   "outputs": [],
   "source": []
  },
  {
   "cell_type": "code",
   "execution_count": null,
   "id": "8c096ff5-1aec-4ac2-88a0-c44755b80c17",
   "metadata": {},
   "outputs": [],
   "source": [
    "# Filter out unknown genders\n",
    "df_gender = df[df['gendr'].isin(['M', 'F'])].copy()\n",
    "\n",
    "# Group by gender\n",
    "gender_completion = df_gender.groupby('gendr')['completed'].value_counts().unstack().fillna(0)\n",
    "print(gender_completion)\n",
    "\n",
    "# Z-test setup: Male vs Female\n",
    "success = np.array([gender_completion.loc['M', 1], gender_completion.loc['F', 1]])\n",
    "nobs = np.array([gender_completion.loc['M'].sum(), gender_completion.loc['F'].sum()])\n",
    "\n",
    "stat, pval = proportions_ztest(success, nobs)\n",
    "print(f\"Z-statistic: {stat:.4f}, p-value: {pval:.4f}\")\n",
    "\n",
    "if pval < 0.05:\n",
    "    print(\"Reject H0: Significant difference in completion rates between genders.\")\n",
    "else:\n",
    "    print(\"Fail to reject H0: No significant gender-based difference in completion.\")"
   ]
  },
  {
   "cell_type": "code",
   "execution_count": null,
   "id": "267d89fe-f6c8-4c2d-b76f-7833d7378cf0",
   "metadata": {},
   "outputs": [],
   "source": []
  },
  {
   "cell_type": "code",
   "execution_count": null,
   "id": "3fc7f74a-c476-4ef1-8838-ae9ec954fd8f",
   "metadata": {},
   "outputs": [],
   "source": [
    "# Function to run and print results of gender z-test within each group\n",
    "def gender_ztest_within_group(group_name):\n",
    "    subset = df[(df['Variation'] == group_name) & (df['gendr'].isin(['M', 'F']))]\n",
    "    completion = subset.groupby('gendr')['completed'].value_counts().unstack().fillna(0)\n",
    "\n",
    "    success = np.array([completion.loc['M', 1], completion.loc['F', 1]])\n",
    "    nobs = np.array([completion.loc['M'].sum(), completion.loc['F'].sum()])\n",
    "\n",
    "    stat, pval = proportions_ztest(success, nobs)\n",
    "    print(f\"--- {group_name} Group ---\")\n",
    "    print(f\"Z-statistic: {stat:.4f}, p-value: {pval:.4f}\")\n",
    "    if pval < 0.05:\n",
    "        print(\"Reject H0: Significant gender difference in completion rate.\")\n",
    "    else:\n",
    "        print(\"Fail to reject H0: No significant gender difference.\")\n",
    "    print()\n",
    "\n",
    "# Run tests for each group\n",
    "gender_ztest_within_group('Control')\n",
    "gender_ztest_within_group('Test')\n"
   ]
  },
  {
   "cell_type": "code",
   "execution_count": null,
   "id": "0520638a-97cb-4cfa-9cdd-da1c06a8874d",
   "metadata": {},
   "outputs": [],
   "source": []
  },
  {
   "cell_type": "code",
   "execution_count": null,
   "id": "fe1ea5c7-54d7-4392-8c83-29f5836a0403",
   "metadata": {},
   "outputs": [],
   "source": [
    "df_gender = df[df['gendr'].isin(['M', 'F'])]\n",
    "contingency = pd.crosstab(df_gender['gendr'], df_gender['completed'])\n",
    "print(\"Contingency Table:\\n\", contingency)\n",
    "chi2, pval, dof, expected = chi2_contingency(contingency)\n",
    "print(f\"Chi-Square Statistic: {chi2:.4f}\")\n",
    "print(f\"Degrees of Freedom: {dof}\")\n",
    "print(f\"P-value: {pval:.4f}\")\n",
    "if pval < 0.05:\n",
    "    print(\"Reject H0: There is a significant relationship between gender and completion.\")\n",
    "else:\n",
    "    print(\"Fail to reject H0: No significant relationship between gender and completion.\")"
   ]
  },
  {
   "cell_type": "code",
   "execution_count": null,
   "id": "4b35c3c2-8478-4aab-880c-8c3e342e4b96",
   "metadata": {},
   "outputs": [],
   "source": []
  },
  {
   "cell_type": "code",
   "execution_count": 3,
   "id": "af747770-a801-4ac8-92ed-be8754beda68",
   "metadata": {},
   "outputs": [],
   "source": [
    "## Hypothesis Testing\n",
    "# H0=\n",
    "#H1="
   ]
  },
  {
   "cell_type": "code",
   "execution_count": null,
   "id": "5219b63a-a6ac-440a-b693-b5faa352321d",
   "metadata": {},
   "outputs": [],
   "source": [
    "def chi_square_gender_within(group_name):\n",
    "    subset = df[(df['Variation'] == group_name) & (df['gendr'].isin(['M', 'F']))]\n",
    "    contingency = pd.crosstab(subset['gendr'], subset['completed'])\n",
    "    print(f\"--- {group_name} Group ---\")\n",
    "    print(\"Contingency Table:\\n\", contingency)\n",
    "    chi2, pval, dof, expected = chi2_contingency(contingency)\n",
    "    print(f\"Chi-Square Statistic: {chi2:.4f}\")\n",
    "    print(f\"P-value: {pval:.4f}\")\n",
    "    if pval < 0.05:\n",
    "        print(\"Reject H0: Significant relationship between gender and completion in this group.\")\n",
    "    else:\n",
    "        print(\"Fail to reject H0: No significant gender relationship in this group.\")\n",
    "    print()\n",
    "\n",
    "chi_square_gender_within('Control')\n",
    "chi_square_gender_within('Test')"
   ]
  },
  {
   "cell_type": "code",
   "execution_count": null,
   "id": "64436840-ccba-49a7-bd7f-d48d8cf7a285",
   "metadata": {},
   "outputs": [],
   "source": []
  },
  {
   "cell_type": "code",
   "execution_count": null,
   "id": "85221e36-e794-4fe3-818e-2c8a1205e1b4",
   "metadata": {},
   "outputs": [],
   "source": [
    "sns.barplot(data=df[df['gendr'].isin(['M', 'F'])], x='gendr', y='completed', hue='Variation', estimator=np.mean, ci=95)\n",
    "plt.title('Completion Rate by Gender within Control and Test Groups')\n",
    "plt.ylabel('Completion Rate')\n",
    "plt.xlabel('Gender')\n",
    "plt.grid(axis='y', linestyle='--', alpha=0.6)\n",
    "plt.show()"
   ]
  },
  {
   "cell_type": "code",
   "execution_count": null,
   "id": "86fc2282-8610-4cac-bd2a-b49e8fe2077d",
   "metadata": {},
   "outputs": [],
   "source": []
  }
 ],
 "metadata": {
  "kernelspec": {
   "display_name": "Python [conda env:base] *",
   "language": "python",
   "name": "conda-base-py"
  },
  "language_info": {
   "codemirror_mode": {
    "name": "ipython",
    "version": 3
   },
   "file_extension": ".py",
   "mimetype": "text/x-python",
   "name": "python",
   "nbconvert_exporter": "python",
   "pygments_lexer": "ipython3",
   "version": "3.12.7"
  }
 },
 "nbformat": 4,
 "nbformat_minor": 5
}
