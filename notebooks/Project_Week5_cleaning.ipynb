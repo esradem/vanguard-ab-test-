{
 "cells": [
  {
   "cell_type": "code",
   "execution_count": 1,
   "id": "e2a6a14b-685d-48e5-a873-d88ef960a413",
   "metadata": {},
   "outputs": [],
   "source": [
    "import pandas as pd\n",
    "import matplotlib.pyplot as plt\n",
    "from matplotlib.colors import to_hex\n",
    "import seaborn as sns\n",
    "import numpy as np\n",
    "\n",
    "%matplotlib inline"
   ]
  },
  {
   "cell_type": "markdown",
   "id": "1698aec7-7577-4d4a-a86a-d56f33e80ba2",
   "metadata": {},
   "source": [
    "# Load Datasets"
   ]
  },
  {
   "cell_type": "code",
   "execution_count": 3,
   "id": "12a79bcb-bbd6-4e1c-bf41-f25c57169885",
   "metadata": {},
   "outputs": [],
   "source": [
    "# Base raw URL from GitHub (must be the \"raw\" version)\n",
    "base_url = 'https://raw.githubusercontent.com/data-bootcamp-v4/lessons/main/5_6_eda_inf_stats_tableau/project/files_for_project/'\n",
    "\n",
    "demo= 'df_final_demo.txt'\n",
    "clients ='df_final_experiment_clients.txt'\n",
    "web1= 'df_final_web_data_pt_1.txt'\n",
    "web2= 'df_final_web_data_pt_2.txt'\n",
    "\n",
    "df_demo = pd.read_csv(base_url + demo, delimiter=',')\n",
    "df_client = pd.read_csv(base_url + clients, delimiter=',')\n",
    "df_web1 = pd.read_csv(base_url + web1, delimiter=',')\n",
    "df_web2 = pd.read_csv(base_url + web2, delimiter=',')\n",
    "\n",
    "# Merge web data\n",
    "df_web = pd.concat([df_web1, df_web2], ignore_index=True)"
   ]
  },
  {
   "cell_type": "code",
   "execution_count": null,
   "id": "faf7583f-16df-44f9-83db-5d99898804aa",
   "metadata": {},
   "outputs": [],
   "source": []
  },
  {
   "cell_type": "markdown",
   "id": "023822e5-d9f6-40ef-b556-c4d05ffffa59",
   "metadata": {},
   "source": [
    "### Cleaning functions application"
   ]
  },
  {
   "cell_type": "code",
   "execution_count": 5,
   "id": "6ed39652-a864-4596-bc6c-9d074890b5c9",
   "metadata": {},
   "outputs": [
    {
     "data": {
      "text/html": [
       "<div>\n",
       "<style scoped>\n",
       "    .dataframe tbody tr th:only-of-type {\n",
       "        vertical-align: middle;\n",
       "    }\n",
       "\n",
       "    .dataframe tbody tr th {\n",
       "        vertical-align: top;\n",
       "    }\n",
       "\n",
       "    .dataframe thead th {\n",
       "        text-align: right;\n",
       "    }\n",
       "</style>\n",
       "<table border=\"1\" class=\"dataframe\">\n",
       "  <thead>\n",
       "    <tr style=\"text-align: right;\">\n",
       "      <th></th>\n",
       "      <th>client_id</th>\n",
       "      <th>clnt_tenure_yr</th>\n",
       "      <th>clnt_tenure_mnth</th>\n",
       "      <th>clnt_age</th>\n",
       "      <th>gender</th>\n",
       "      <th>num_accts</th>\n",
       "      <th>bal</th>\n",
       "      <th>calls_6_mnth</th>\n",
       "      <th>logons_6_mnth</th>\n",
       "    </tr>\n",
       "  </thead>\n",
       "  <tbody>\n",
       "    <tr>\n",
       "      <th>0</th>\n",
       "      <td>836976</td>\n",
       "      <td>6.0</td>\n",
       "      <td>73.0</td>\n",
       "      <td>60.5</td>\n",
       "      <td>U</td>\n",
       "      <td>2.0</td>\n",
       "      <td>45105.30</td>\n",
       "      <td>6.0</td>\n",
       "      <td>9.0</td>\n",
       "    </tr>\n",
       "    <tr>\n",
       "      <th>1</th>\n",
       "      <td>2304905</td>\n",
       "      <td>7.0</td>\n",
       "      <td>94.0</td>\n",
       "      <td>58.0</td>\n",
       "      <td>U</td>\n",
       "      <td>2.0</td>\n",
       "      <td>110860.30</td>\n",
       "      <td>6.0</td>\n",
       "      <td>9.0</td>\n",
       "    </tr>\n",
       "    <tr>\n",
       "      <th>2</th>\n",
       "      <td>1439522</td>\n",
       "      <td>5.0</td>\n",
       "      <td>64.0</td>\n",
       "      <td>32.0</td>\n",
       "      <td>U</td>\n",
       "      <td>2.0</td>\n",
       "      <td>52467.79</td>\n",
       "      <td>6.0</td>\n",
       "      <td>9.0</td>\n",
       "    </tr>\n",
       "    <tr>\n",
       "      <th>3</th>\n",
       "      <td>1562045</td>\n",
       "      <td>16.0</td>\n",
       "      <td>198.0</td>\n",
       "      <td>49.0</td>\n",
       "      <td>M</td>\n",
       "      <td>2.0</td>\n",
       "      <td>67454.65</td>\n",
       "      <td>3.0</td>\n",
       "      <td>6.0</td>\n",
       "    </tr>\n",
       "    <tr>\n",
       "      <th>4</th>\n",
       "      <td>5126305</td>\n",
       "      <td>12.0</td>\n",
       "      <td>145.0</td>\n",
       "      <td>33.0</td>\n",
       "      <td>F</td>\n",
       "      <td>2.0</td>\n",
       "      <td>103671.75</td>\n",
       "      <td>0.0</td>\n",
       "      <td>3.0</td>\n",
       "    </tr>\n",
       "    <tr>\n",
       "      <th>...</th>\n",
       "      <td>...</td>\n",
       "      <td>...</td>\n",
       "      <td>...</td>\n",
       "      <td>...</td>\n",
       "      <td>...</td>\n",
       "      <td>...</td>\n",
       "      <td>...</td>\n",
       "      <td>...</td>\n",
       "      <td>...</td>\n",
       "    </tr>\n",
       "    <tr>\n",
       "      <th>70604</th>\n",
       "      <td>7993686</td>\n",
       "      <td>4.0</td>\n",
       "      <td>56.0</td>\n",
       "      <td>38.5</td>\n",
       "      <td>U</td>\n",
       "      <td>3.0</td>\n",
       "      <td>1411062.68</td>\n",
       "      <td>5.0</td>\n",
       "      <td>5.0</td>\n",
       "    </tr>\n",
       "    <tr>\n",
       "      <th>70605</th>\n",
       "      <td>8981690</td>\n",
       "      <td>12.0</td>\n",
       "      <td>148.0</td>\n",
       "      <td>31.0</td>\n",
       "      <td>M</td>\n",
       "      <td>2.0</td>\n",
       "      <td>101867.07</td>\n",
       "      <td>6.0</td>\n",
       "      <td>6.0</td>\n",
       "    </tr>\n",
       "    <tr>\n",
       "      <th>70606</th>\n",
       "      <td>333913</td>\n",
       "      <td>16.0</td>\n",
       "      <td>198.0</td>\n",
       "      <td>61.5</td>\n",
       "      <td>F</td>\n",
       "      <td>2.0</td>\n",
       "      <td>40745.00</td>\n",
       "      <td>3.0</td>\n",
       "      <td>3.0</td>\n",
       "    </tr>\n",
       "    <tr>\n",
       "      <th>70607</th>\n",
       "      <td>1573142</td>\n",
       "      <td>21.0</td>\n",
       "      <td>255.0</td>\n",
       "      <td>68.0</td>\n",
       "      <td>M</td>\n",
       "      <td>3.0</td>\n",
       "      <td>475114.69</td>\n",
       "      <td>4.0</td>\n",
       "      <td>4.0</td>\n",
       "    </tr>\n",
       "    <tr>\n",
       "      <th>70608</th>\n",
       "      <td>5602139</td>\n",
       "      <td>21.0</td>\n",
       "      <td>254.0</td>\n",
       "      <td>59.5</td>\n",
       "      <td>F</td>\n",
       "      <td>3.0</td>\n",
       "      <td>157498.73</td>\n",
       "      <td>7.0</td>\n",
       "      <td>7.0</td>\n",
       "    </tr>\n",
       "  </tbody>\n",
       "</table>\n",
       "<p>70609 rows × 9 columns</p>\n",
       "</div>"
      ],
      "text/plain": [
       "       client_id  clnt_tenure_yr  clnt_tenure_mnth  clnt_age gender  \\\n",
       "0         836976             6.0              73.0      60.5      U   \n",
       "1        2304905             7.0              94.0      58.0      U   \n",
       "2        1439522             5.0              64.0      32.0      U   \n",
       "3        1562045            16.0             198.0      49.0      M   \n",
       "4        5126305            12.0             145.0      33.0      F   \n",
       "...          ...             ...               ...       ...    ...   \n",
       "70604    7993686             4.0              56.0      38.5      U   \n",
       "70605    8981690            12.0             148.0      31.0      M   \n",
       "70606     333913            16.0             198.0      61.5      F   \n",
       "70607    1573142            21.0             255.0      68.0      M   \n",
       "70608    5602139            21.0             254.0      59.5      F   \n",
       "\n",
       "       num_accts         bal  calls_6_mnth  logons_6_mnth  \n",
       "0            2.0    45105.30           6.0            9.0  \n",
       "1            2.0   110860.30           6.0            9.0  \n",
       "2            2.0    52467.79           6.0            9.0  \n",
       "3            2.0    67454.65           3.0            6.0  \n",
       "4            2.0   103671.75           0.0            3.0  \n",
       "...          ...         ...           ...            ...  \n",
       "70604        3.0  1411062.68           5.0            5.0  \n",
       "70605        2.0   101867.07           6.0            6.0  \n",
       "70606        2.0    40745.00           3.0            3.0  \n",
       "70607        3.0   475114.69           4.0            4.0  \n",
       "70608        3.0   157498.73           7.0            7.0  \n",
       "\n",
       "[70609 rows x 9 columns]"
      ]
     },
     "execution_count": 5,
     "metadata": {},
     "output_type": "execute_result"
    }
   ],
   "source": [
    "from cleaning_functions_05 import main_cleaning\n",
    "main_cleaning(df_demo)"
   ]
  },
  {
   "cell_type": "code",
   "execution_count": 6,
   "id": "3dfaa1c2-1a22-4764-8944-5f95ef248aad",
   "metadata": {},
   "outputs": [],
   "source": [
    "from cleaning_functions_05 import apply_to_column, standardize_gender\n",
    "\n",
    "df_demo = apply_to_column(df_demo, 'gender', standardize_gender)\n"
   ]
  },
  {
   "cell_type": "code",
   "execution_count": 7,
   "id": "b58ca347-8fd6-4a0e-90bc-a8671f9e0fc4",
   "metadata": {},
   "outputs": [],
   "source": [
    "from cleaning_functions_05 import conv_datetime, merge_datasets\n",
    "\n",
    "# Then call directly:\n",
    "df_web = conv_datetime(df_web)\n"
   ]
  },
  {
   "cell_type": "markdown",
   "id": "60906253-3288-402e-b38b-2ea5a5488d12",
   "metadata": {},
   "source": [
    "### Quick_data_reports"
   ]
  },
  {
   "cell_type": "code",
   "execution_count": 9,
   "id": "0030e231-292b-4441-b627-e34fc812d20a",
   "metadata": {},
   "outputs": [
    {
     "name": "stdout",
     "output_type": "stream",
     "text": [
      "\n",
      "DataFrame shape: (70609, 9)\n",
      "\n",
      "Data types:\n",
      " client_id             int64\n",
      "clnt_tenure_yr      float64\n",
      "clnt_tenure_mnth    float64\n",
      "clnt_age            float64\n",
      "gender               object\n",
      "num_accts           float64\n",
      "bal                 float64\n",
      "calls_6_mnth        float64\n",
      "logons_6_mnth       float64\n",
      "dtype: object\n",
      "\n",
      "Missing values:\n",
      " client_id            0\n",
      "clnt_tenure_yr      14\n",
      "clnt_tenure_mnth    14\n",
      "clnt_age            15\n",
      "gender               0\n",
      "num_accts           14\n",
      "bal                 14\n",
      "calls_6_mnth        14\n",
      "logons_6_mnth       14\n",
      "dtype: int64\n",
      "\n",
      "Descriptive statistics:\n",
      "           client_id  clnt_tenure_yr  clnt_tenure_mnth      clnt_age  \\\n",
      "count  7.060900e+04    70595.000000      70595.000000  70594.000000   \n",
      "mean   5.004992e+06       12.052950        150.659367     46.442240   \n",
      "std    2.877278e+06        6.871819         82.089854     15.591273   \n",
      "min    1.690000e+02        2.000000         33.000000     13.500000   \n",
      "25%    2.519329e+06        6.000000         82.000000     32.500000   \n",
      "50%    5.016978e+06       11.000000        136.000000     47.000000   \n",
      "75%    7.483085e+06       16.000000        192.000000     59.000000   \n",
      "max    9.999839e+06       62.000000        749.000000     96.000000   \n",
      "\n",
      "          num_accts           bal  calls_6_mnth  logons_6_mnth  \n",
      "count  70595.000000  7.059500e+04  70595.000000   70595.000000  \n",
      "mean       2.255528  1.474452e+05      3.382478       5.566740  \n",
      "std        0.534997  3.015087e+05      2.236580       2.353286  \n",
      "min        1.000000  1.378942e+04      0.000000       1.000000  \n",
      "25%        2.000000  3.734683e+04      1.000000       4.000000  \n",
      "50%        2.000000  6.333290e+04      3.000000       5.000000  \n",
      "75%        2.000000  1.375449e+05      6.000000       7.000000  \n",
      "max        8.000000  1.632004e+07      7.000000       9.000000  \n"
     ]
    }
   ],
   "source": [
    "from cleaning_functions_05 import quick_data_report\n",
    "quick_data_report(df_demo)"
   ]
  },
  {
   "cell_type": "code",
   "execution_count": 10,
   "id": "aaed1610-3651-4376-b076-e0ccb9a3431c",
   "metadata": {},
   "outputs": [
    {
     "name": "stdout",
     "output_type": "stream",
     "text": [
      "\n",
      "DataFrame shape: (70609, 2)\n",
      "\n",
      "Data types:\n",
      " client_id     int64\n",
      "Variation    object\n",
      "dtype: object\n",
      "\n",
      "Missing values:\n",
      " client_id        0\n",
      "Variation    20109\n",
      "dtype: int64\n",
      "\n",
      "Descriptive statistics:\n",
      "           client_id\n",
      "count  7.060900e+04\n",
      "mean   5.004992e+06\n",
      "std    2.877278e+06\n",
      "min    1.690000e+02\n",
      "25%    2.519329e+06\n",
      "50%    5.016978e+06\n",
      "75%    7.483085e+06\n",
      "max    9.999839e+06\n"
     ]
    }
   ],
   "source": [
    "from cleaning_functions_05 import quick_data_report\n",
    "quick_data_report(df_client)"
   ]
  },
  {
   "cell_type": "code",
   "execution_count": 11,
   "id": "794b2bc4-9d02-45dd-ac96-caf366819fad",
   "metadata": {},
   "outputs": [
    {
     "name": "stdout",
     "output_type": "stream",
     "text": [
      "\n",
      "DataFrame shape: (755405, 5)\n",
      "\n",
      "Data types:\n",
      " client_id                int64\n",
      "visitor_id              object\n",
      "visit_id                object\n",
      "process_step            object\n",
      "date_time       datetime64[ns]\n",
      "dtype: object\n",
      "\n",
      "Missing values:\n",
      " client_id       0\n",
      "visitor_id      0\n",
      "visit_id        0\n",
      "process_step    0\n",
      "date_time       0\n",
      "dtype: int64\n",
      "\n",
      "Descriptive statistics:\n",
      "           client_id                      date_time\n",
      "count  7.554050e+05                         755405\n",
      "mean   5.013632e+06  2017-05-07 22:36:27.471852544\n",
      "min    1.690000e+02            2017-03-15 00:03:03\n",
      "25%    2.519882e+06            2017-04-08 21:14:52\n",
      "50%    5.033441e+06            2017-05-11 16:47:34\n",
      "75%    7.496063e+06            2017-06-03 11:02:51\n",
      "max    9.999875e+06            2017-06-20 23:59:57\n",
      "std    2.879152e+06                            NaN\n"
     ]
    }
   ],
   "source": [
    "from cleaning_functions_05 import quick_data_report\n",
    "quick_data_report(df_web)"
   ]
  },
  {
   "cell_type": "markdown",
   "id": "9cd0d6f0-b5b2-4f1b-ad8c-88f7853ae6f6",
   "metadata": {},
   "source": [
    "# Handle Missing Values"
   ]
  },
  {
   "cell_type": "code",
   "execution_count": 13,
   "id": "8c3a2172-8897-4560-bf68-3cca2e30caed",
   "metadata": {},
   "outputs": [],
   "source": [
    "df_demo.dropna(inplace=True)"
   ]
  },
  {
   "cell_type": "code",
   "execution_count": 14,
   "id": "d6b673f0-c9d6-4fdd-bee6-019eaa219dc3",
   "metadata": {},
   "outputs": [
    {
     "data": {
      "text/plain": [
       "array(['Test', 'Control', nan], dtype=object)"
      ]
     },
     "execution_count": 14,
     "metadata": {},
     "output_type": "execute_result"
    }
   ],
   "source": [
    "df_client['Variation'].unique()"
   ]
  },
  {
   "cell_type": "code",
   "execution_count": 15,
   "id": "73309b4f-a43d-4aa9-8eed-ed4cd472c95f",
   "metadata": {},
   "outputs": [],
   "source": [
    "df_client['Variation']= df_client['Variation'].dropna()"
   ]
  },
  {
   "cell_type": "markdown",
   "id": "b36f1c39-0fa1-4b09-bb9c-917e3178eaa9",
   "metadata": {},
   "source": [
    "# Merge datasets"
   ]
  },
  {
   "cell_type": "code",
   "execution_count": 17,
   "id": "10c0469f-6223-496e-93ad-3117f68f4c59",
   "metadata": {},
   "outputs": [
    {
     "name": "stdout",
     "output_type": "stream",
     "text": [
      "(449704, 14)\n"
     ]
    },
    {
     "data": {
      "text/html": [
       "<div>\n",
       "<style scoped>\n",
       "    .dataframe tbody tr th:only-of-type {\n",
       "        vertical-align: middle;\n",
       "    }\n",
       "\n",
       "    .dataframe tbody tr th {\n",
       "        vertical-align: top;\n",
       "    }\n",
       "\n",
       "    .dataframe thead th {\n",
       "        text-align: right;\n",
       "    }\n",
       "</style>\n",
       "<table border=\"1\" class=\"dataframe\">\n",
       "  <thead>\n",
       "    <tr style=\"text-align: right;\">\n",
       "      <th></th>\n",
       "      <th>client_id</th>\n",
       "      <th>clnt_tenure_yr</th>\n",
       "      <th>clnt_tenure_mnth</th>\n",
       "      <th>clnt_age</th>\n",
       "      <th>gender</th>\n",
       "      <th>num_accts</th>\n",
       "      <th>bal</th>\n",
       "      <th>calls_6_mnth</th>\n",
       "      <th>logons_6_mnth</th>\n",
       "      <th>Variation</th>\n",
       "      <th>visitor_id</th>\n",
       "      <th>visit_id</th>\n",
       "      <th>process_step</th>\n",
       "      <th>date_time</th>\n",
       "    </tr>\n",
       "  </thead>\n",
       "  <tbody>\n",
       "    <tr>\n",
       "      <th>0</th>\n",
       "      <td>836976</td>\n",
       "      <td>6.0</td>\n",
       "      <td>73.0</td>\n",
       "      <td>60.5</td>\n",
       "      <td>u</td>\n",
       "      <td>2.0</td>\n",
       "      <td>45105.3</td>\n",
       "      <td>6.0</td>\n",
       "      <td>9.0</td>\n",
       "      <td>Test</td>\n",
       "      <td>427070339_1413275162</td>\n",
       "      <td>228976764_46825473280_96584</td>\n",
       "      <td>confirm</td>\n",
       "      <td>2017-04-02 11:51:13</td>\n",
       "    </tr>\n",
       "    <tr>\n",
       "      <th>1</th>\n",
       "      <td>836976</td>\n",
       "      <td>6.0</td>\n",
       "      <td>73.0</td>\n",
       "      <td>60.5</td>\n",
       "      <td>u</td>\n",
       "      <td>2.0</td>\n",
       "      <td>45105.3</td>\n",
       "      <td>6.0</td>\n",
       "      <td>9.0</td>\n",
       "      <td>Test</td>\n",
       "      <td>427070339_1413275162</td>\n",
       "      <td>228976764_46825473280_96584</td>\n",
       "      <td>confirm</td>\n",
       "      <td>2017-04-02 11:47:50</td>\n",
       "    </tr>\n",
       "    <tr>\n",
       "      <th>2</th>\n",
       "      <td>836976</td>\n",
       "      <td>6.0</td>\n",
       "      <td>73.0</td>\n",
       "      <td>60.5</td>\n",
       "      <td>u</td>\n",
       "      <td>2.0</td>\n",
       "      <td>45105.3</td>\n",
       "      <td>6.0</td>\n",
       "      <td>9.0</td>\n",
       "      <td>Test</td>\n",
       "      <td>427070339_1413275162</td>\n",
       "      <td>228976764_46825473280_96584</td>\n",
       "      <td>confirm</td>\n",
       "      <td>2017-04-02 11:46:45</td>\n",
       "    </tr>\n",
       "    <tr>\n",
       "      <th>3</th>\n",
       "      <td>836976</td>\n",
       "      <td>6.0</td>\n",
       "      <td>73.0</td>\n",
       "      <td>60.5</td>\n",
       "      <td>u</td>\n",
       "      <td>2.0</td>\n",
       "      <td>45105.3</td>\n",
       "      <td>6.0</td>\n",
       "      <td>9.0</td>\n",
       "      <td>Test</td>\n",
       "      <td>427070339_1413275162</td>\n",
       "      <td>228976764_46825473280_96584</td>\n",
       "      <td>step_3</td>\n",
       "      <td>2017-04-02 11:23:08</td>\n",
       "    </tr>\n",
       "    <tr>\n",
       "      <th>4</th>\n",
       "      <td>836976</td>\n",
       "      <td>6.0</td>\n",
       "      <td>73.0</td>\n",
       "      <td>60.5</td>\n",
       "      <td>u</td>\n",
       "      <td>2.0</td>\n",
       "      <td>45105.3</td>\n",
       "      <td>6.0</td>\n",
       "      <td>9.0</td>\n",
       "      <td>Test</td>\n",
       "      <td>427070339_1413275162</td>\n",
       "      <td>228976764_46825473280_96584</td>\n",
       "      <td>step_2</td>\n",
       "      <td>2017-04-02 11:22:24</td>\n",
       "    </tr>\n",
       "  </tbody>\n",
       "</table>\n",
       "</div>"
      ],
      "text/plain": [
       "   client_id  clnt_tenure_yr  clnt_tenure_mnth  clnt_age gender  num_accts  \\\n",
       "0     836976             6.0              73.0      60.5      u        2.0   \n",
       "1     836976             6.0              73.0      60.5      u        2.0   \n",
       "2     836976             6.0              73.0      60.5      u        2.0   \n",
       "3     836976             6.0              73.0      60.5      u        2.0   \n",
       "4     836976             6.0              73.0      60.5      u        2.0   \n",
       "\n",
       "       bal  calls_6_mnth  logons_6_mnth Variation            visitor_id  \\\n",
       "0  45105.3           6.0            9.0      Test  427070339_1413275162   \n",
       "1  45105.3           6.0            9.0      Test  427070339_1413275162   \n",
       "2  45105.3           6.0            9.0      Test  427070339_1413275162   \n",
       "3  45105.3           6.0            9.0      Test  427070339_1413275162   \n",
       "4  45105.3           6.0            9.0      Test  427070339_1413275162   \n",
       "\n",
       "                      visit_id process_step           date_time  \n",
       "0  228976764_46825473280_96584      confirm 2017-04-02 11:51:13  \n",
       "1  228976764_46825473280_96584      confirm 2017-04-02 11:47:50  \n",
       "2  228976764_46825473280_96584      confirm 2017-04-02 11:46:45  \n",
       "3  228976764_46825473280_96584       step_3 2017-04-02 11:23:08  \n",
       "4  228976764_46825473280_96584       step_2 2017-04-02 11:22:24  "
      ]
     },
     "execution_count": 17,
     "metadata": {},
     "output_type": "execute_result"
    }
   ],
   "source": [
    "# Merge all three\n",
    "df_final = merge_datasets(df_demo, df_client, df_web)\n",
    "\n",
    "# Quick check\n",
    "print(df_final.shape)\n",
    "df_final.head()"
   ]
  },
  {
   "cell_type": "markdown",
   "id": "0f4d3dec-c03e-4fe5-8b9b-4e660e73ac40",
   "metadata": {},
   "source": [
    "#### Answer the following questions about demographics:\n",
    "\n",
    "Who are the primary clients using this online process? \n",
    "\n",
    "- Are the primary clients younger or older, new or long-standing?\n",
    "\n",
    "- Next, carry out a client behaviour analysis to answer any additional relevant questions you think are important.\n",
    "\n",
    "#### We define primary users as those who:\n",
    "\n",
    "Have high login frequency (logons_6_mnth)\n",
    "\n",
    "Progress through **multiple 'process_steps'\n",
    "\n",
    "Possibly have repeated web activity (visit_id or visitor_id)"
   ]
  },
  {
   "cell_type": "markdown",
   "id": "973e5bc3-b759-461c-8832-0e24f50ae72d",
   "metadata": {},
   "source": [
    "### 1.1. Compare login frequency by age group:\n"
   ]
  },
  {
   "cell_type": "code",
   "execution_count": 36,
   "id": "c1eadae7-ecc5-4d78-bae6-e81992540f9d",
   "metadata": {},
   "outputs": [
    {
     "data": {
      "image/png": "[encoded data removed]",
      "text/plain": [
       "<Figure size 800x500 with 1 Axes>"
      ]
     },
     "metadata": {},
     "output_type": "display_data"
    }
   ],
   "source": [
    "bins = [18, 30, 45, 60, 75, 100]\n",
    "labels = ['18-30', '31-45', '46-60', '61-75', '76+']\n",
    "df_final['age_group'] = pd.cut(df_final['clnt_age'], bins=bins, labels=labels, include_lowest=True)\n",
    "\n",
    "theme_color = \"#1d5c85\"  # Your preferred color\n",
    "\n",
    "fig, ax = plt.subplots(figsize=(8, 5))\n",
    "sns.barplot(\n",
    "    data=df_final,\n",
    "    x='age_group',\n",
    "    y='logons_6_mnth',\n",
    "    color=theme_color,  \n",
    "    ax=ax\n",
    ")\n",
    "\n",
    "# Step 3: Styling for presentation\n",
    "ax.set_title('Avg Logons by Age Group', color=theme_color)\n",
    "ax.set_xlabel('Age Group', color=theme_color)\n",
    "ax.set_ylabel('Average Logons', color=theme_color)\n",
    "ax.tick_params(colors=theme_color)\n",
    "\n",
    "for spine in ax.spines.values():\n",
    "    spine.set_visible(True)\n",
    "    spine.set_linewidth(1.2)\n",
    "    spine.set_color(theme_color)\n",
    "\n",
    "plt.tight_layout()\n",
    "plt.savefig(\"../slides/avg_logons_by_age.png\", transparent=True, format=\"png\")\n",
    "plt.show()# Discretizing 'age' into 4 categories\n",
    "\n"
   ]
  },
  {
   "cell_type": "code",
   "execution_count": 37,
   "id": "2919f229-f84e-4688-820e-cad463547420",
   "metadata": {},
   "outputs": [
    {
     "data": {
      "image/png": "[encoded data removed]",
      "text/plain": [
       "<Figure size 800x500 with 1 Axes>"
      ]
     },
     "metadata": {},
     "output_type": "display_data"
    }
   ],
   "source": [
    "# Step 2: Plot using Seaborn\n",
    "\n",
    "theme_color = \"#bce1a2\"\n",
    "\n",
    "fig, ax = plt.subplots(figsize=(8, 5))\n",
    "sns.barplot(data=df_final, x='age_group', y='logons_6_mnth', color=theme_color, ax=ax)\n",
    "\n",
    "# Step 3: Styling for presentation\n",
    "ax.set_title('Avg Logons by Age Group', color=theme_color)\n",
    "ax.set_xlabel('Age Group', color=theme_color)\n",
    "ax.set_ylabel('Average Logons', color=theme_color)\n",
    "ax.tick_params(colors=theme_color)\n",
    "\n",
    "for spine in ax.spines.values():\n",
    "    spine.set_visible(True)\n",
    "    spine.set_linewidth(1.2)\n",
    "    spine.set_color(theme_color)\n",
    "\n",
    "plt.tight_layout()\n",
    "plt.savefig(\"../slides/avg_logons_by_age.png\", transparent=True, format=\"png\")\n",
    "plt.show()\n"
   ]
  },
  {
   "cell_type": "markdown",
   "id": "bc1590e3-5da4-4487-b72a-c8102aa78bf1",
   "metadata": {},
   "source": [
    "### 1.2. Compare login frequency by tenure:\n"
   ]
  },
  {
   "cell_type": "code",
   "execution_count": 40,
   "id": "ac7b9b85-48c7-495b-a2ce-0f57618a69ad",
   "metadata": {},
   "outputs": [],
   "source": [
    "#1.2. Compare login frequency by tenure:\n",
    "df_final['tenure_years'] = df_final['clnt_tenure_yr'] + df_final['clnt_tenure_mnth'] / 12\n",
    "df_final['tenure_group'] = pd.cut(df_final['tenure_years'], bins=[0, 2, 5, 10, 20, 40], labels=['<2y', '2-5y', '5-10y', '10-20y', '20y+'])\n",
    "\n",
    "df_tenure = df_final.groupby('tenure_group', observed= True)['logons_6_mnth'].mean().reset_index()\n"
   ]
  },
  {
   "cell_type": "code",
   "execution_count": 44,
   "id": "032fdc30-0452-416b-a45d-455cb1a6ee18",
   "metadata": {},
   "outputs": [
    {
     "data": {
      "image/png": "[encoded data removed]",
      "text/plain": [
       "<Figure size 800x500 with 1 Axes>"
      ]
     },
     "metadata": {},
     "output_type": "display_data"
    }
   ],
   "source": [
    "# Generate cubehelix palette with ENOUGH colors\n",
    "theme_color = \"#73b3cb\"\n",
    "# Plot\n",
    "fig, ax = plt.subplots(figsize=(8, 5))\n",
    "sns.barplot(\n",
    "    data=df_tenure,\n",
    "    x='tenure_group',\n",
    "    y='logons_6_mnth',\n",
    "    color=theme_color,\n",
    "    legend=False,                 \n",
    "    ax=ax\n",
    ")\n",
    "\n",
    "# Theme styling\n",
    "\n",
    "ax.set_title('Avg Logons by Tenure Years', color=theme_color)\n",
    "ax.set_xlabel('Tenure Years', color=theme_color)\n",
    "ax.set_ylabel('Average Logons', color=theme_color)\n",
    "ax.tick_params(colors=theme_color)\n",
    "\n",
    "for spine in ax.spines.values():\n",
    "    spine.set_visible(True)\n",
    "    spine.set_linewidth(1.2)\n",
    "    spine.set_color(theme_color)\n",
    "\n",
    "plt.tight_layout()\n",
    "plt.savefig(\"../slides/avg_logons_by_tenure.png\", transparent=True, format=\"png\")\n",
    "plt.show()\n"
   ]
  },
  {
   "cell_type": "markdown",
   "id": "4dd4b124-f2e5-457e-90f2-7f55c1f1c263",
   "metadata": {},
   "source": [
    "# 2.Client Behaviour Analysis\n",
    "#### 2.1. Do high-balance clients engage more digitally?\n",
    "#### 2.2 Do highly engaged digital clients call less?\n",
    "#### 2.3. How many process steps do they complete?"
   ]
  },
  {
   "cell_type": "code",
   "execution_count": 46,
   "id": "8c298981-b615-4918-8925-cf51c3746279",
   "metadata": {},
   "outputs": [
    {
     "data": {
      "image/png": "[encoded data removed]",
      "text/plain": [
       "<Figure size 800x500 with 1 Axes>"
      ]
     },
     "metadata": {},
     "output_type": "display_data"
    }
   ],
   "source": [
    "# 2.1 Balance group and engagement digitally\n",
    "df_final['balance_group'] = pd.qcut(df_final['bal'], q=4, labels=['Low', 'Mid', 'Mid_High', 'High'])\n",
    "df_balances = df_final.groupby('balance_group', observed=True)['logons_6_mnth'].mean().reset_index()\n",
    "\n",
    "# Generate cubehelix palette\n",
    "cubehelix_colors = sns.cubehelix_palette(start=.6, rot=-.32, n_colors=len(df_balances))\n",
    "\n",
    "# Plot using Seaborn\n",
    "fig, ax = plt.subplots(figsize=(8, 5))\n",
    "sns.barplot(\n",
    "    data=df_balances,\n",
    "    x='balance_group',\n",
    "    y='logons_6_mnth',\n",
    "    hue='balance_group',              \n",
    "    palette=cubehelix_colors,\n",
    "    legend=False,                    \n",
    "    ax=ax\n",
    ")\n",
    "\n",
    "# Style elements\n",
    "theme_color = \"#711164\"\n",
    "ax.set_title('Avg Logons by Balance Level', color=theme_color)\n",
    "ax.set_xlabel('Balance Groups', color=theme_color)\n",
    "ax.set_ylabel('Average Logons', color=theme_color)\n",
    "ax.tick_params(colors=theme_color)\n",
    "\n",
    "for spine in ax.spines.values():\n",
    "    spine.set_visible(True)\n",
    "    spine.set_linewidth(1.2)\n",
    "    spine.set_color(theme_color)\n",
    "\n",
    "plt.tight_layout()\n",
    "plt.savefig(\"../slides/avg_logons_by_balance.png\", transparent=True, format=\"png\")\n",
    "plt.show()\n",
    "\n"
   ]
  },
  {
   "cell_type": "code",
   "execution_count": 84,
   "id": "c5fd1b8e-4b46-4f52-957b-a34e31cce52b",
   "metadata": {},
   "outputs": [
    {
     "data": {
      "image/png": "[encoded data removed]",
      "text/plain": [
       "<Figure size 800x500 with 1 Axes>"
      ]
     },
     "metadata": {},
     "output_type": "display_data"
    }
   ],
   "source": [
    "plt.figure(figsize=(8, 5))\n",
    "\n",
    "sns.scatterplot(\n",
    "    data=df_final,\n",
    "    x='logons_6_mnth',\n",
    "    y='calls_6_mnth',\n",
    "    alpha=0.3,           # Transparency to handle overlap\n",
    "    color='seagreen',\n",
    "    edgecolor=None\n",
    ")\n",
    "\n",
    "\n",
    "\n",
    "plt.title(\"Logons vs Calls (6 Months)\", color='seagreen')\n",
    "plt.xlabel(\"Logons (6 Months)\")\n",
    "plt.ylabel(\"Calls (6 Months)\")\n",
    "plt.tight_layout()\n",
    "plt.savefig(\"../slides/logons_vs_calls_light.png\", transparent=True, format=\"png\")\n",
    "plt.show()\n",
    "\n"
   ]
  },
  {
   "cell_type": "code",
   "execution_count": 49,
   "id": "2ff629e7-b6c5-4bc3-8c58-cf61e5294164",
   "metadata": {},
   "outputs": [
    {
     "data": {
      "text/plain": [
       "0         5\n",
       "1         5\n",
       "2         5\n",
       "3         5\n",
       "4         5\n",
       "         ..\n",
       "449699    5\n",
       "449700    5\n",
       "449701    5\n",
       "449702    5\n",
       "449703    5\n",
       "Name: steps_completed, Length: 449704, dtype: int64"
      ]
     },
     "execution_count": 49,
     "metadata": {},
     "output_type": "execute_result"
    }
   ],
   "source": [
    "#2.3.How many process steps do they complete?\n",
    "# Count how many unique process steps each client completed\n",
    "df_steps = df_final.groupby('client_id')['process_step'].nunique().sort_values(ascending=False).reset_index()\n",
    "df_steps.columns = ['client_id', 'steps_completed']\n",
    "\n",
    "#Merge steps back into the full dataset\n",
    "df_final = df_final.merge(df_steps, on='client_id', how='left')\n",
    "df_final['steps_completed'].fillna(0)\n",
    "\n",
    "\n"
   ]
  },
  {
   "cell_type": "code",
   "execution_count": 90,
   "id": "ee6915e8-16a4-4df5-be46-caf9bb32f26b",
   "metadata": {},
   "outputs": [
    {
     "data": {
      "image/png": "[encoded data removed]",
      "text/plain": [
       "<Figure size 800x500 with 1 Axes>"
      ]
     },
     "metadata": {},
     "output_type": "display_data"
    }
   ],
   "source": [
    "# Step 1: Calculate average steps by age group\n",
    "steps_by_age = (\n",
    "    df_final\n",
    "    .groupby('age_group', observed=True)['steps_completed']\n",
    "    .mean()\n",
    "    .sort_values(ascending=False) \n",
    "    .reset_index()\n",
    ")\n",
    "\n",
    "# Step 2: Generate cubehelix palette (dark for high values)\n",
    "\n",
    "# Step 3: Create the barplot with sorted data and mapped colors\n",
    "fig, ax = plt.subplots(figsize=(8, 5))\n",
    "sns.barplot(\n",
    "    data=steps_by_age,\n",
    "    x='age_group',\n",
    "    y='steps_completed',\n",
    "    color='#3d88b0',\n",
    "    ax=ax\n",
    ")\n",
    "\n",
    "# Step 4: Style the plot\n",
    "ax.set_title('Avg Steps Completed by Age Group', color=\"#3d88b0\")\n",
    "ax.set_xlabel('Age Group', color=\"#3d88b0\")\n",
    "ax.set_ylabel('Avg Steps Completed', color=\"#3d88b0\")\n",
    "ax.tick_params(colors=\"#3d88b0\")\n",
    "\n",
    "\n",
    "\n",
    "plt.tight_layout()\n",
    "plt.savefig(\"../slides/avaragestepsbyage.png\", transparent=True, format=\"png\")\n",
    "plt.show()"
   ]
  },
  {
   "cell_type": "code",
   "execution_count": 128,
   "id": "22ee5dbf-0b4e-4c45-806e-faa611d0d0be",
   "metadata": {},
   "outputs": [
    {
     "data": {
      "image/png": "[encoded data removed]",
      "text/plain": [
       "<Figure size 640x480 with 1 Axes>"
      ]
     },
     "metadata": {},
     "output_type": "display_data"
    }
   ],
   "source": [
    "#2.4. Completed process by balance group\n",
    "cubehelix_colors = sns.cubehelix_palette(start=.6, rot=-.32, n_colors=len(df_balances))\n",
    "\n",
    "# Plot: Average number of steps completed per balance group\n",
    "df_final.groupby('balance_group', observed=True)['steps_completed'].mean().plot(\n",
    "    kind='bar',\n",
    "    title='Avg Steps Completed by balance Group',\n",
    "    color=cubehelix_colors[1]\n",
    ")\n",
    "\n",
    "plt.ylabel('Avg Steps Completed')\n",
    "plt.xlabel('Balance Group')\n",
    "plt.tight_layout()\n",
    "plt.savefig(\"../slides/av_steps_by_balance.png\", transparent=True, format=\"png\")\n",
    "plt.show()\n"
   ]
  },
  {
   "cell_type": "code",
   "execution_count": 114,
   "id": "38b2453e-ce4d-4368-807e-e58e6f65134b",
   "metadata": {},
   "outputs": [
    {
     "data": {
      "image/png": "[encoded data removed]",
      "text/plain": [
       "<Figure size 800x500 with 1 Axes>"
      ]
     },
     "metadata": {},
     "output_type": "display_data"
    }
   ],
   "source": [
    "# Get 2 matching colors from the \"crest\" palette\n",
    "colors = sns.color_palette(\"crest\", n_colors=2)\n",
    "\n",
    "# Grouped mean\n",
    "grouped = df_final.groupby('tenure_group', observed=True)[['logons_6_mnth', 'steps_completed']].mean()\n",
    "\n",
    "# Plot\n",
    "ax = grouped.plot(kind='bar', color=colors, figsize=(8, 5))\n",
    "\n",
    "# Styling\n",
    "ax.set_title('Avg Logons & Steps Completed by Tenure Group', color='#73b3cb')\n",
    "ax.set_xlabel('Tenure Group', color='#73b3cb')\n",
    "ax.set_ylabel('Average per Client', color='#73b3cb')\n",
    "ax.tick_params(colors='#73b3cb')\n",
    "\n",
    "# Legend\n",
    "plt.legend(['Avg Logons', 'Avg Steps Completed'], bbox_to_anchor=(1.05, 1), loc='upper left')\n",
    "\n",
    "# Spine and layout tweaks\n",
    "for spine in ax.spines.values():\n",
    "    spine.set_visible(True)\n",
    "    spine.set_linewidth(1.2)\n",
    "    spine.set_color('#73b3cb')\n",
    "\n",
    "plt.tight_layout()\n",
    "plt.savefig(\"../slides/av_steps_by_tenure.png\", transparent=True, format=\"png\")\n",
    "plt.show()\n"
   ]
  },
  {
   "cell_type": "markdown",
   "id": "9966a2a9-d5f4-40e0-ad7f-3417b9cabcbc",
   "metadata": {},
   "source": [
    "### KPI / Metrics"
   ]
  },
  {
   "cell_type": "markdown",
   "id": "a2dc5b26-5612-40aa-a142-5f4e11000702",
   "metadata": {},
   "source": [
    "1- Completion Rate: The proportion of users who reach the final 'confirm' step.\n",
    "\n",
    "2- Time Spent on Each Step: The average duration users spend on each step.\n",
    "\n",
    "3- Error Rates: If there's a step where users go back to a previous step, it may indicate confusion or an error. You should consider moving from a later step to an earlier one as an error."
   ]
  },
  {
   "cell_type": "code",
   "execution_count": 55,
   "id": "5435ed0a-8193-44de-91a1-5f1fd9c2e547",
   "metadata": {},
   "outputs": [
    {
     "data": {
      "text/plain": [
       "client_id          46968\n",
       "steps_completed        1\n",
       "dtype: int64"
      ]
     },
     "execution_count": 55,
     "metadata": {},
     "output_type": "execute_result"
    }
   ],
   "source": [
    "# Count how many unique process steps each client completed\n",
    "df_steps = df_final.groupby('client_id')['process_step'].nunique().reset_index()\n",
    "df_steps.columns = ['client_id', 'steps_completed']\n",
    "filtered_steps = df_steps[df_steps['steps_completed'] == 5]\n",
    "filtered_steps.nunique() "
   ]
  },
  {
   "cell_type": "markdown",
   "id": "6710e101-4d94-494c-b671-ae25a8602f07",
   "metadata": {},
   "source": [
    "## 1-Completion Rate: The proportion of users who reach the final 'confirm' step."
   ]
  },
  {
   "cell_type": "code",
   "execution_count": 57,
   "id": "b5844507-b0fb-4715-899f-c56beb53eed2",
   "metadata": {},
   "outputs": [
    {
     "name": "stdout",
     "output_type": "stream",
     "text": [
      "Completion Rate: 0.68\n"
     ]
    }
   ],
   "source": [
    "# Step 1: Identify clients who reached the 'confirm' step\n",
    "completed_clients = df_final[df_final['process_step'] == 'confirm']['client_id'].unique()\n",
    "\n",
    "# Step 2: Count the number of unique clients who completed the 'confirm' step\n",
    "num_completed_clients = len(completed_clients)\n",
    "\n",
    "# Step 3: Calculate the total number of unique clients\n",
    "total_clients = df_final['client_id'].nunique()\n",
    "\n",
    "# Step 4: Calculate the completion rate\n",
    "completion_rate = num_completed_clients / total_clients\n",
    "\n",
    "# Display the result\n",
    "print(f\"Completion Rate: {completion_rate:.2f}\")"
   ]
  },
  {
   "cell_type": "markdown",
   "id": "9a79c673-59b3-442d-8e23-112418ca25b2",
   "metadata": {},
   "source": [
    "## 2- Time Spent on Each Step: The average duration users spend on each step."
   ]
  },
  {
   "cell_type": "code",
   "execution_count": 135,
   "id": "37c48a23-786d-4b80-b610-50339ce4cca8",
   "metadata": {},
   "outputs": [
    {
     "name": "stdout",
     "output_type": "stream",
     "text": [
      "  process_step  average_duration_minutes\n",
      "0      confirm               5577.242426\n",
      "1        start               1843.875330\n",
      "2       step_1                824.841538\n",
      "4       step_3                777.592230\n",
      "3       step_2                452.595677\n"
     ]
    }
   ],
   "source": [
    "# Step 1: Sort by client_id and date_time\n",
    "df_final_sorted = df_final.sort_values(by=['client_id', 'date_time']).copy()\n",
    "\n",
    "# Step 2: Calculate time difference to next step\n",
    "df_final_sorted['next_date_time'] = df_final_sorted.groupby('client_id')['date_time'].shift(-1)\n",
    "df_final_sorted['duration'] = (df_final_sorted['next_date_time'] - df_final_sorted['date_time']).dt.total_seconds() / 60\n",
    "\n",
    "# Step 3: Remove rows with no next step (NaN durations)\n",
    "duration_df = df_final_sorted.dropna(subset=['duration'])\n",
    "\n",
    "# Step 4: Average time per process step\n",
    "average_time_per_step = (\n",
    "    duration_df\n",
    "    .groupby('process_step')['duration']\n",
    "    .mean()\n",
    "    .reset_index()\n",
    "    .rename(columns={'duration': 'average_duration_minutes'})\n",
    "    .sort_values(by='average_duration_minutes', ascending=False)\n",
    ")\n",
    "# Export duration per step \n",
    "average_time_per_step.to_csv(\"average_time_per_step.csv\", index=False)\n",
    "\n",
    "print(average_time_per_step)\n"
   ]
  },
  {
   "cell_type": "markdown",
   "id": "addf5d9d-83ca-4cc5-b84c-05c5065ab0b5",
   "metadata": {},
   "source": [
    "## 3- Error Rates: If there's a step where users go back to a previous step, it may indicate confusion or an error. \n",
    "- You should consider moving from a later step to an earlier one as an error."
   ]
  },
  {
   "cell_type": "code",
   "execution_count": 139,
   "id": "210c3cf1-5cbe-43d5-a26d-9342fe0e7e43",
   "metadata": {},
   "outputs": [
    {
     "name": "stdout",
     "output_type": "stream",
     "text": [
      "is_error\n",
      "False    446439\n",
      "True       3265\n",
      "Name: count, dtype: int64\n",
      "\n",
      "Error Rate per Client:\n",
      "\n",
      "       client_id  is_error\n",
      "0            169       0.0\n",
      "1            555       0.0\n",
      "2            647       0.0\n",
      "3            722       0.0\n",
      "4            934       0.0\n",
      "...          ...       ...\n",
      "70589    9999400       0.0\n",
      "70590    9999626       0.0\n",
      "70591    9999729       0.0\n",
      "70592    9999832       0.0\n",
      "70593    9999839       0.0\n",
      "\n",
      "[70594 rows x 2 columns]\n",
      "\n",
      "Overall Error Rate: 0.01\n"
     ]
    }
   ],
   "source": [
    "# Step 1: Define step order\n",
    "step_order = {'start': 1, 'step1': 2, 'step2': 3, 'step3': 4, 'confirm': 5}\n",
    "df_final['step_order'] = df_final['process_step'].map(step_order)\n",
    "\n",
    "# Step 2: Sort by client_id and date_time to analyze transitions\n",
    "df_final.sort_values(by=['client_id', 'date_time'], inplace=True)\n",
    "\n",
    "# Step 3: Calculate if a transition is an error (moving to a previous step)\n",
    "df_final['next_step_order'] = df_final.groupby('client_id')['step_order'].shift(-1)\n",
    "df_final['is_error'] = df_final['next_step_order'] < df_final['step_order']\n",
    "\n",
    "# Step 4: Calculate error rate per client or overall\n",
    "error_rate_per_client = df_final.groupby('client_id')['is_error'].mean().reset_index()\n",
    "overall_error_rate = df_final['is_error'].mean()\n",
    "error_rate_counts = df_final['is_error'].value_counts()\n",
    "# Display the results\n",
    "print(error_rate_counts)\n",
    "print()\n",
    "print(\"Error Rate per Client:\")\n",
    "print()\n",
    "print(error_rate_per_client)\n",
    "print(f\"\\nOverall Error Rate: {overall_error_rate:.2f}\")\n",
    "\n",
    "df_final.to_csv(\"step_errors.csv\", index=False)\n",
    "\n",
    "\n"
   ]
  },
  {
   "cell_type": "markdown",
   "id": "22cdf6a6-7b3f-4e37-a7da-b064ca103eea",
   "metadata": {},
   "source": [
    "##### An A/B test was set into motion from 3/15/2017 to 6/20/2017 by the team.\n",
    "\n",
    "##### Control Group: Clients interacted with Vanguard's traditional online process.\n",
    "##### Test Group: Clients experienced the new, spruced-up digital interface.\n",
    "##### Both groups navigated through an identical process sequence: an initial page, three subsequent steps, and finally, a confirmation page signaling process completion.\n",
    "\n",
    "\n",
    "## The goal is to see if the new design leads to a better user experience and higher process completion rates.\n",
    "\n",
    "\n"
   ]
  },
  {
   "cell_type": "code",
   "execution_count": 63,
   "id": "8df4d262-dc40-4c51-a8e0-c93e4fb0f895",
   "metadata": {},
   "outputs": [
    {
     "name": "stdout",
     "output_type": "stream",
     "text": [
      "  Variation  total_clients  successful_clients  success_rate\n",
      "0   Control          23526               17498      0.743773\n",
      "1      Test          26961               25716      0.953822\n"
     ]
    }
   ],
   "source": [
    "# Step 1: Identify successful clients (those who reached the 'confirm' step)\n",
    "df_final['success'] = df_final['process_step'] == 'confirm'\n",
    "\n",
    "# Step 2: Calculate total and successful clients per group\n",
    "group_success = df_final.groupby('Variation').agg(total_clients=('client_id', 'nunique'),\n",
    "                                        successful_clients=('success', 'sum')).reset_index()\n",
    "\n",
    "# Step 3: Calculate the success rate\n",
    "group_success['success_rate'] = group_success['successful_clients'] / group_success['total_clients']\n",
    "\n",
    "# Display the results\n",
    "print(group_success)"
   ]
  },
  {
   "cell_type": "code",
   "execution_count": 64,
   "id": "29ba6c8a-dbdf-44e6-a75f-1b3202a4f5c8",
   "metadata": {},
   "outputs": [],
   "source": [
    "# Of all clients who started the process, how many reached step 1?"
   ]
  },
  {
   "cell_type": "markdown",
   "id": "c4d5f670-b75b-45f4-98e9-ec82a5c5e594",
   "metadata": {},
   "source": [
    "## Hypotheses Testing\n",
    "* Variation: \"Control\" and \"Test\" (or \"A\" and \"B\")\n",
    "* success: 1 = client completed the process, 0 = did not\n",
    "\n",
    " \n",
    "### Null Hypothesis (H₀):\n",
    "The completion rate is the same for both the Test and Control groups.\n",
    "Mathematically: ",
    "p₁ = p₂\n",
    "\n",
    "\n",
    "### Alternative Hypothesis (H₁):\n",
    "The Test group has a higher completion rate than the Control group.\n",
    "Mathematically: ",
    "p₁ < p₂ ",
    "(one-tailed test)\n"
   ]
  },
  {
   "cell_type": "code",
   "execution_count": 66,
   "id": "1de241c8-d16e-4a05-a4b1-aa158d501707",
   "metadata": {},
   "outputs": [
    {
     "name": "stdout",
     "output_type": "stream",
     "text": [
      "\n",
      "Z-statistic: -67.05\n",
      "P-value: 1.00\n",
      "Result: Fail to reject the null hypothesis — no significant difference found.\n"
     ]
    }
   ],
   "source": [
    "import pandas as pd\n",
    "from statsmodels.stats.proportion import proportions_ztest\n",
    "\n",
    "# Step 1: Aggregate data\n",
    "group_success = df_final.groupby('Variation').agg(\n",
    "    total_clients=('client_id', 'nunique'),\n",
    "    successful_clients=('success', 'sum')\n",
    ").reset_index()\n",
    "\n",
    "# Step 1.5: Filter to only Test and Control groups (drop unknowns)\n",
    "group_success = group_success[group_success['Variation'].isin(['Control', 'Test'])]\n",
    "\n",
    "# Step 2: Extract counts for Z-test\n",
    "success_counts = group_success['successful_clients'].values\n",
    "total_counts = group_success['total_clients'].values\n",
    "\n",
    "# Step 3: Run one-tailed proportions Z-test (Test > Control)\n",
    "z_stat, p_value = proportions_ztest(count=success_counts, nobs=total_counts, alternative='larger')\n",
    "\n",
    "# Step 4: Output the test results\n",
    "print(f\"\\nZ-statistic: {z_stat:.2f}\")\n",
    "print(f\"P-value: {p_value:.2f}\")\n",
    "\n",
    "# Step 5: Hypothesis Test Interpretation\n",
    "alpha = 0.05\n",
    "if p_value < alpha:\n",
    "    print(\"Result: Reject the null hypothesis — the Test group has a significantly higher completion rate.\")\n",
    "else:\n",
    "    print(\"Result: Fail to reject the null hypothesis — no significant difference found.\")\n",
    "\n"
   ]
  },
  {
   "cell_type": "code",
   "execution_count": 67,
   "id": "70f13944-71d2-47e1-9285-ce3f7b2e3537",
   "metadata": {},
   "outputs": [
    {
     "name": "stdout",
     "output_type": "stream",
     "text": [
      "\n",
      "Completion Rate - Control: 74.38%\n",
      "Completion Rate - Test: 95.38%\n",
      "Absolute Lift: 21.00%\n",
      "Result: The observed lift meets the 5% cost-effectiveness threshold.\n"
     ]
    }
   ],
   "source": [
    "# Business Threshold Check\n",
    "# Calculate actual conversion rates\n",
    "conversion_rates = group_success['successful_clients'] / group_success['total_clients']\n",
    "rate_control = conversion_rates[group_success['Variation'] == 'Control'].values[0]\n",
    "rate_test = conversion_rates[group_success['Variation'] == 'Test'].values[0]\n",
    "\n",
    "# Calculate lift\n",
    "lift = rate_test - rate_control\n",
    "print(f\"\\nCompletion Rate - Control: {rate_control:.2%}\")\n",
    "print(f\"Completion Rate - Test: {rate_test:.2%}\")\n",
    "print(f\"Absolute Lift: {lift:.2%}\")\n",
    "\n",
    "# Step 7: Cost-effectiveness threshold evaluation\n",
    "threshold = 0.05  # 5% minimum required improvement\n",
    "if lift >= threshold:\n",
    "    print(\"Result: The observed lift meets the 5% cost-effectiveness threshold.\")\n",
    "else:\n",
    "    print(\"Result: The observed lift does NOT meet the 5% cost-effectiveness threshold.\")\n"
   ]
  },
  {
   "cell_type": "markdown",
   "id": "0ccb78f0-5e12-4b03-991b-9dd5dc532041",
   "metadata": {},
   "source": [
    "## Each step completion rate\n",
    "##### Started” → clients who appear at the very first recorded step for their journey\n",
    "\n",
    "##### Reached step 1” → explicitly filtered process_step == 1"
   ]
  },
  {
   "cell_type": "code",
   "execution_count": 69,
   "id": "7308629a-0266-45a3-902e-0efcc9153cb9",
   "metadata": {},
   "outputs": [],
   "source": [
    "#Identify the first recorded activity for each client\n",
    "###first_steps will contain the earliest process_step for each client_id, based on the chronological order provided by date_time.\n",
    "first_steps = df_final.sort_values(['client_id', 'date_time']).groupby('client_id').first().reset_index()"
   ]
  },
  {
   "cell_type": "code",
   "execution_count": 130,
   "id": "61470c2b-88e4-42fd-b8a1-3c8af70c45e7",
   "metadata": {},
   "outputs": [
    {
     "data": {
      "text/plain": [
       "array(['start', 'step_1', 'step_2', 'step_3', 'confirm'], dtype=object)"
      ]
     },
     "execution_count": 130,
     "metadata": {},
     "output_type": "execute_result"
    }
   ],
   "source": [
    "df_final['process_step'].unique()"
   ]
  },
  {
   "cell_type": "markdown",
   "id": "ac9d772d-78e2-4cc0-94c8-f2430d8fdb3a",
   "metadata": {},
   "source": [
    "## START TO STEP1"
   ]
  },
  {
   "cell_type": "code",
   "execution_count": 133,
   "id": "b20d1231-4303-4f6c-9d18-dd4a3bb13f4e",
   "metadata": {},
   "outputs": [
    {
     "name": "stdout",
     "output_type": "stream",
     "text": [
      "\n",
      "Variation Group: Control\n",
      "Clients who started at 'start': 23360\n",
      "Clients who reached 'step_1': 20048\n",
      "Completion rate from 'start' to 'step_1': 85.82%\n",
      "\n",
      "Variation Group: Test\n",
      "Clients who started at 'start': 26613\n",
      "Clients who reached 'step_1': 24141\n",
      "Completion rate from 'start' to 'step_1': 90.71%\n"
     ]
    }
   ],
   "source": [
    "# Step 1: Clients who started at 'start' with variation info\n",
    "clients_started = first_steps[first_steps['process_step'] == 'start'][['client_id', 'Variation']]\n",
    "\n",
    "# Step 2: Clients from that group who reached 'step_1'\n",
    "clients_step1 = df_final[\n",
    "    (df_final['process_step'] == 'step_1') & \n",
    "    (df_final['client_id'].isin(clients_started['client_id']))\n",
    "][['client_id']].drop_duplicates()\n",
    "\n",
    "# Step 3: Add variation info to those who reached step_1\n",
    "clients_step1 = clients_step1.merge(clients_started, on='client_id', how='left')\n",
    "\n",
    "# Step 4: Grouped counts\n",
    "grouped_start = clients_started.groupby('Variation')['client_id'].nunique()\n",
    "grouped_step1 = clients_step1.groupby('Variation')['client_id'].nunique()\n",
    "\n",
    "# Step 5: Completion rate from 'start' to 'step_1'\n",
    "completion_rate_by_var = (grouped_step1 / grouped_start).fillna(0)\n",
    "\n",
    "# Step 6: Print results\n",
    "for var in completion_rate_by_var.index:\n",
    "    print(f\"\\nVariation Group: {var}\")\n",
    "    print(f\"Clients who started at 'start': {grouped_start[var]}\")\n",
    "    print(f\"Clients who reached 'step_1': {grouped_step1[var]}\")\n",
    "    print(f\"Completion rate from 'start' to 'step_1': {completion_rate_by_var[var]:.2%}\")\n"
   ]
  },
  {
   "cell_type": "markdown",
   "id": "2708d70c-b540-4e6f-ba3d-c4f39e9ba720",
   "metadata": {},
   "source": [
    "## STEP1 TO STEP 2"
   ]
  },
  {
   "cell_type": "code",
   "execution_count": null,
   "id": "c16e5922-4658-466e-89e1-8874067a6549",
   "metadata": {},
   "outputs": [],
   "source": [
    "# Clients who reached 'step_1' with variation info\n",
    "clients_step1 = df_final[df_final['process_step'] == 'step_1'][['client_id', 'Variation']].drop_duplicates()\n",
    "\n",
    "#  Clients from that set who also reached 'step_2'\n",
    "clients_step2 = df_final[df_final['process_step'] == 'step_2'][['client_id', 'Variation']].drop_duplicates()\n",
    "\n",
    "#  Group counts by variation\n",
    "step1_counts = clients_step1.groupby('Variation')['client_id'].nunique()\n",
    "step2_counts = clients_step2.groupby('Variation')['client_id'].nunique()\n",
    "\n",
    "#  Completion rate\n",
    "step1_to_step2_rates = (step2_counts / step1_counts).fillna(0)\n",
    "\n",
    "# Print results\n",
    "for var in step1_to_step2_rates.index:\n",
    "    print(f\"\\nVariation Group: {var}\")\n",
    "    print(f\"Clients who reached 'step_1': {step1_counts[var]}\")\n",
    "    print(f\"Clients who reached 'step_2': {step2_counts[var]}\")\n",
    "    print(f\"Completion rate from 'step_1' to 'step_2': {step1_to_step2_rates[var]:.2%}\")\n"
   ]
  },
  {
   "cell_type": "markdown",
   "id": "81578169-596a-4f23-828b-e680d891ceff",
   "metadata": {},
   "source": [
    "## Step2 to Step 3"
   ]
  },
  {
   "cell_type": "code",
   "execution_count": null,
   "id": "56d175a8-eb2e-4542-b17c-b48d274333a1",
   "metadata": {},
   "outputs": [],
   "source": [
    "# Clients who reached 'step_2' with Variation\n",
    "clients_step2 = df_final[df_final['process_step'] == 'step_2'][['client_id', 'Variation']].drop_duplicates()\n",
    "\n",
    "# Clients who proceeded to 'step_3' (also include Variation directly)\n",
    "clients_step3 = df_final[\n",
    "    (df_final['process_step'] == 'step_3') &\n",
    "    (df_final['client_id'].isin(clients_step2['client_id']))\n",
    "][['client_id', 'Variation']].drop_duplicates()\n",
    "\n",
    "# Grouped counts\n",
    "step2_counts = clients_step2.groupby('Variation')['client_id'].nunique()\n",
    "step3_counts = clients_step3.groupby('Variation')['client_id'].nunique()\n",
    "\n",
    "\n",
    "# Completion rate\n",
    "step2_to_step3_rates = (step3_counts / step2_counts).fillna(0)\n",
    "\n",
    "# Step 6: Print results\n",
    "for var in step2_to_step3_rates.index:\n",
    "    print(f\"\\nVariation Group: {var}\")\n",
    "    print(f\"Clients who reached 'step_2': {step2_counts[var]}\")\n",
    "    print(f\"Clients who reached 'step_3': {step3_counts[var]}\")\n",
    "    print(f\"Completion rate from 'step_2' to 'step_3': {step2_to_step3_rates[var]:.2%}\")\n"
   ]
  },
  {
   "cell_type": "markdown",
   "id": "fc3ae966-4e7e-47c6-9e38-378f1cbc57d0",
   "metadata": {},
   "source": [
    "## Step 3 to Final step: CONFIRM"
   ]
  },
  {
   "cell_type": "code",
   "execution_count": null,
   "id": "3132cc18-4c6a-44e6-b6f7-958708e8f2c4",
   "metadata": {},
   "outputs": [],
   "source": [
    "# Clients who reached 'step_2' with Variation\n",
    "clients_step3 = df_final[df_final['process_step'] == 'step_3'][['client_id', 'Variation']].drop_duplicates()\n",
    "\n",
    "# Clients who proceeded to 'step_3' (also include Variation directly)\n",
    "clients_completed = df_final[\n",
    "    (df_final['process_step'] == 'confirm') &\n",
    "    (df_final['client_id'].isin(clients_step3['client_id']))\n",
    "][['client_id', 'Variation']].drop_duplicates()\n",
    "\n",
    "# Grouped counts\n",
    "step3_counts = clients_step3.groupby('Variation')['client_id'].nunique()\n",
    "stepfinal_counts = clients_completed.groupby('Variation')['client_id'].nunique()\n",
    "\n",
    "\n",
    "# Completion rate\n",
    "step3_to_stepfinal_rates = (stepfinal_counts / step3_counts).fillna(0)\n",
    "\n",
    "# Step 6: Print results\n",
    "for var in step3_to_stepfinal_rates.index:\n",
    "    print(f\"\\nVariation Group: {var}\")\n",
    "    print(f\"Clients who reached 'step_3': {step3_counts[var]}\")\n",
    "    print(f\"Clients who reached 'step_final': {stepfinal_counts[var]}\")\n",
    "    print(f\"Completion rate from 'step_3' to 'step_final': {step3_to_stepfinal_rates[var]:.2%}\")\n"
   ]
  },
  {
   "cell_type": "markdown",
   "id": "d02c50b9-e363-409b-8dd7-534317ac0a16",
   "metadata": {},
   "source": [
    "\n",
    "------------\n",
    "\n",
    "### Variation Group: Control\n",
    "- Clients who started at 'start': 23360\n",
    "- Clients who reached 'step_1': 20048\n",
    "- Completion rate from 'start' to 'step_1': 85.82%\n",
    "\n",
    "### Variation Group: Test\n",
    "- Clients who started at 'start': 26613\n",
    "- Clients who reached 'step_1': 24141\n",
    "- Completion rate from 'start' to 'step_1': 90.71%\n",
    "\n",
    "------------\n",
    "\n",
    "### Variation Group: Control\n",
    "- Clients who reached 'step_1': 20146\n",
    "- Clients who reached 'step_2': 18627\n",
    "- Completion rate from 'step_1' to 'step_2': 92.46%\n",
    "\n",
    "### Variation Group: Test\n",
    "- Clients who reached 'step_1': 24260\n",
    "- Clients who reached 'step_2': 22237\n",
    "- Completion rate from 'step_1' to 'step_2': 91.66%\n",
    "\n",
    "-----------\n",
    "\n",
    "### Variation Group: Control\n",
    "- Clients who reached 'step_2': 18644\n",
    "- Clients who reached 'step_3': 17350\n",
    "- Completion rate from 'step_2' to 'step_3': 93.06%\n",
    "\n",
    "### Variation Group: Test\n",
    "- Clients who reached 'step_2': 22252\n",
    "- Clients who reached 'step_3': 20829\n",
    "- Completion rate from 'step_2' to 'step_3': 93.61%\n",
    "\n",
    "--------------\n",
    "\n",
    "### Variation Group: Control\n",
    "- Clients who reached 'step_3': 17416\n",
    "- Clients who reached 'step_final': 15323\n",
    "- Completion rate from 'step_3' to 'step_final': 87.98%\n",
    "\n",
    "### Variation Group: Test\n",
    "- Clients who reached 'step_3': 20876\n",
    "- Clients who reached 'step_final': 18440\n",
    "- Completion rate from 'step_3' to 'step_final': 88.33%"
   ]
  },
  {
   "cell_type": "markdown",
   "id": "847ae226-7175-4a81-83ba-d73e0edd1898",
   "metadata": {},
   "source": [
    "Hypothesis Test: Start → Step 1 Completion Rate\n",
    "### 1. Hypotheses\n",
    "#### Null Hypothesis (H₀):\n",
    "The conversion rate from 'start' to 'step_1' is equal for both Control and Test groups.\n",
    "(p₁ = p₂)\n",
    "\n",
    "#### Alternative Hypothesis (H₁):\n",
    "The Test group has a higher conversion rate than the Control group.\n",
    "(p₂ > p₁)\n",
    "\n",
    "This is a one-tailed test.\n",
    "\n",
    "### 2. Test Method\n",
    "We apply a two-proportion Z-test, appropriate for comparing proportions between two independent groups.\n",
    "\n",
    "### 3. Data Summary\n",
    "Group\tStarted\tReached Step 1\n",
    "Control\t23,360\t20,048\n",
    "Test\t26,613\t24,141\n",
    "\n"
   ]
  },
  {
   "cell_type": "code",
   "execution_count": null,
   "id": "a6df6d1a-4dea-4949-b268-eee97f888e90",
   "metadata": {},
   "outputs": [],
   "source": [
    "from statsmodels.stats.proportion import proportions_ztest\n",
    "\n",
    "# Successes and totals\n",
    "successes = [20048, 24141]     # Clients who reached 'step_1'\n",
    "totals = [23360, 26613]        # Clients who started at 'start'\n",
    "\n",
    "# Run one-tailed Z-test (Test group > Control group)\n",
    "z_stat, p_value = proportions_ztest(count=successes, nobs=totals, alternative='larger')\n",
    "\n",
    "#  Output result\n",
    "print(f\"Z-statistic: {z_stat:.4f}\")\n",
    "print(f\"P-value: {p_value:.4f}\")\n",
    "\n",
    "alpha = 0.05\n",
    "if p_value < alpha:\n",
    "    print(\" Reject the null hypothesis — the Test group has a significantly higher conversion rate from 'start' to 'step_1'.\")\n",
    "else:\n",
    "    print(\" Fail to reject the null hypothesis — no significant difference found.\")\n",
    "## WHEN  WE LOOK AT THE HYPOTHESIS TEST IT MIGHT BE BECAUSE OF PROPORTION DIFFERENCE"
   ]
  },
  {
   "cell_type": "code",
   "execution_count": null,
   "id": "d79eabe1-a5ab-482a-8e16-dfe36e09d387",
   "metadata": {},
   "outputs": [],
   "source": [
    "df_final.to_csv('vangard_test.csv', index=False)"
   ]
  },
  {
   "cell_type": "code",
   "execution_count": null,
   "id": "1696c85f-99ba-4de3-bc93-6c5e51f7958c",
   "metadata": {},
   "outputs": [],
   "source": []
  }
 ],
 "metadata": {
  "kernelspec": {
   "display_name": "Python [conda env:base] *",
   "language": "python",
   "name": "conda-base-py"
  },
  "language_info": {
   "codemirror_mode": {
    "name": "ipython",
    "version": 3
   },
   "file_extension": ".py",
   "mimetype": "text/x-python",
   "name": "python",
   "nbconvert_exporter": "python",
   "pygments_lexer": "ipython3",
   "version": "3.12.7"
  }
 },
 "nbformat": 4,
 "nbformat_minor": 5
}
