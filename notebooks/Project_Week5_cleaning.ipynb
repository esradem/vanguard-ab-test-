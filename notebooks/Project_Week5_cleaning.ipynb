{
 "cells": [
  {
   "cell_type": "code",
   "execution_count": null,
   "id": "e2a6a14b-685d-48e5-a873-d88ef960a413",
   "metadata": {},
   "outputs": [],
   "source": [
    "import pandas as pd\n",
    "import matplotlib.pyplot as plt\n",
    "from matplotlib.colors import to_hex\n",
    "import seaborn as sns\n",
    "import numpy as np\n",
    "\n",
    "%matplotlib inline"
   ]
  },
  {
   "cell_type": "markdown",
   "id": "1698aec7-7577-4d4a-a86a-d56f33e80ba2",
   "metadata": {},
   "source": [
    "# Load Datasets"
   ]
  },
  {
   "cell_type": "code",
   "execution_count": null,
   "id": "12a79bcb-bbd6-4e1c-bf41-f25c57169885",
   "metadata": {},
   "outputs": [],
   "source": [
    "# Base raw URL from GitHub (must be the \"raw\" version)\n",
    "base_url = 'https://raw.githubusercontent.com/data-bootcamp-v4/lessons/main/5_6_eda_inf_stats_tableau/project/files_for_project/'\n",
    "\n",
    "demo= 'df_final_demo.txt'\n",
    "clients ='df_final_experiment_clients.txt'\n",
    "web1= 'df_final_web_data_pt_1.txt'\n",
    "web2= 'df_final_web_data_pt_2.txt'\n",
    "\n",
    "df_demo = pd.read_csv(base_url + demo, delimiter=',')\n",
    "df_client = pd.read_csv(base_url + clients, delimiter=',')\n",
    "df_web1 = pd.read_csv(base_url + web1, delimiter=',')\n",
    "df_web2 = pd.read_csv(base_url + web2, delimiter=',')\n",
    "\n",
    "# Merge web data\n",
    "df_web = pd.concat([df_web1, df_web2], ignore_index=True)"
   ]
  },
  {
   "cell_type": "markdown",
   "id": "023822e5-d9f6-40ef-b556-c4d05ffffa59",
   "metadata": {},
   "source": [
    "### Cleaning functions application"
   ]
  },
  {
   "cell_type": "code",
   "execution_count": null,
   "id": "6ed39652-a864-4596-bc6c-9d074890b5c9",
   "metadata": {},
   "outputs": [],
   "source": [
    "from cleaning_functions_05 import main_cleaning\n",
    "main_cleaning(df_demo)"
   ]
  },
  {
   "cell_type": "code",
   "execution_count": null,
   "id": "3dfaa1c2-1a22-4764-8944-5f95ef248aad",
   "metadata": {},
   "outputs": [],
   "source": [
    "from cleaning_functions_05 import apply_to_column, standardize_gender\n",
    "\n",
    "df_demo = apply_to_column(df_demo, 'gender', standardize_gender)\n"
   ]
  },
  {
   "cell_type": "code",
   "execution_count": null,
   "id": "b58ca347-8fd6-4a0e-90bc-a8671f9e0fc4",
   "metadata": {},
   "outputs": [],
   "source": [
    "from cleaning_functions_05 import conv_datetime, merge_datasets\n",
    "\n",
    "# Then call directly:\n",
    "df_web = conv_datetime(df_web)\n"
   ]
  },
  {
   "cell_type": "markdown",
   "id": "60906253-3288-402e-b38b-2ea5a5488d12",
   "metadata": {},
   "source": [
    "### Quick_data_reports"
   ]
  },
  {
   "cell_type": "code",
   "execution_count": null,
   "id": "0030e231-292b-4441-b627-e34fc812d20a",
   "metadata": {},
   "outputs": [],
   "source": [
    "from cleaning_functions_05 import quick_data_report\n",
    "quick_data_report(df_demo)"
   ]
  },
  {
   "cell_type": "code",
   "execution_count": null,
   "id": "aaed1610-3651-4376-b076-e0ccb9a3431c",
   "metadata": {},
   "outputs": [],
   "source": [
    "from cleaning_functions_05 import quick_data_report\n",
    "quick_data_report(df_client)"
   ]
  },
  {
   "cell_type": "code",
   "execution_count": null,
   "id": "794b2bc4-9d02-45dd-ac96-caf366819fad",
   "metadata": {},
   "outputs": [],
   "source": [
    "from cleaning_functions_05 import quick_data_report\n",
    "quick_data_report(df_web)"
   ]
  },
  {
   "cell_type": "markdown",
   "id": "9cd0d6f0-b5b2-4f1b-ad8c-88f7853ae6f6",
   "metadata": {},
   "source": [
    "# Handle Missing Values"
   ]
  },
  {
   "cell_type": "code",
   "execution_count": null,
   "id": "8c3a2172-8897-4560-bf68-3cca2e30caed",
   "metadata": {},
   "outputs": [],
   "source": [
    "df_demo.dropna(inplace=True)"
   ]
  },
  {
   "cell_type": "code",
   "execution_count": null,
   "id": "73309b4f-a43d-4aa9-8eed-ed4cd472c95f",
   "metadata": {},
   "outputs": [],
   "source": [
    "df_client['Variation']= df_client['Variation'].fillna('Unknown')"
   ]
  },
  {
   "cell_type": "markdown",
   "id": "b36f1c39-0fa1-4b09-bb9c-917e3178eaa9",
   "metadata": {},
   "source": [
    "# Merge datasets"
   ]
  },
  {
   "cell_type": "code",
   "execution_count": null,
   "id": "10c0469f-6223-496e-93ad-3117f68f4c59",
   "metadata": {},
   "outputs": [],
   "source": [
    "# Merge all three\n",
    "df_final = merge_datasets(df_demo, df_client, df_web)\n",
    "\n",
    "# Quick check\n",
    "print(df_final.shape)\n",
    "df_final.head()"
   ]
  },
  {
   "cell_type": "markdown",
   "id": "0f4d3dec-c03e-4fe5-8b9b-4e660e73ac40",
   "metadata": {},
   "source": [
    "#### Answer the following questions about demographics:\n",
    "\n",
    "Who are the primary clients using this online process? \n",
    "\n",
    "- Are the primary clients younger or older, new or long-standing?\n",
    "\n",
    "- Next, carry out a client behaviour analysis to answer any additional relevant questions you think are important.\n",
    "\n",
    "#### We define primary users as those who:\n",
    "\n",
    "Have high login frequency (logons_6_mnth)\n",
    "\n",
    "Progress through **multiple 'process_steps'\n",
    "\n",
    "Possibly have repeated web activity (visit_id or visitor_id)"
   ]
  },
  {
   "cell_type": "markdown",
   "id": "973e5bc3-b759-461c-8832-0e24f50ae72d",
   "metadata": {},
   "source": [
    "### 1.1. Compare login frequency by age group:\n"
   ]
  },
  {
   "cell_type": "code",
   "execution_count": null,
   "id": "c1eadae7-ecc5-4d78-bae6-e81992540f9d",
   "metadata": {},
   "outputs": [],
   "source": [
    "# Discretizing 'age' into 4 categories\n",
    "bins = [18, 30, 45, 60, 75, 100]\n",
    "labels = ['18-30', '31-45', '46-60', '61-75', '76+']\n",
    "df_final['age_group'] = pd.cut(df_final['clnt_age'], bins=bins, labels=labels, include_lowest=True)\n"
   ]
  },
  {
   "cell_type": "code",
   "execution_count": null,
   "id": "fe08ade0-811f-4140-9cfd-1114d79fd6f4",
   "metadata": {},
   "outputs": [],
   "source": [
    "# Step 1: Aggregate the data into a DataFrame\n",
    "df_avgage = df_final.groupby('age_group', observed=True)['logons_6_mnth'].mean().reset_index()\n",
    "\n",
    "# Step 2: Plot using Seaborn\n",
    "cubehelix_colors = sns.cubehelix_palette(start=.5, rot=-.75, n_colors=len(df_avgage))\n",
    "sns.set_palette(cubehelix_colors)\n",
    "# Theme color\n",
    "theme_color = \"#711164\"\n",
    "\n",
    "fig, ax = plt.subplots(figsize=(8, 5))\n",
    "sns.barplot(data=df_avgage, x='age_group', y='logons_6_mnth',   palette=cubehelix_colors,\n",
    "    legend=False,   ax=ax)\n",
    "\n",
    "# Step 3: Styling for presentation\n",
    "ax.set_title('Avg Logons by Age Group', color=theme_color)\n",
    "ax.set_xlabel('Age Group', color=theme_color)\n",
    "ax.set_ylabel('Average Logons', color=theme_color)\n",
    "ax.tick_params(colors=theme_color)\n",
    "\n",
    "for spine in ax.spines.values():\n",
    "    spine.set_visible(True)\n",
    "    spine.set_linewidth(1.2)\n",
    "    spine.set_color(theme_color)\n",
    "\n",
    "plt.tight_layout()\n",
    "plt.savefig(\"../slides/avg_logons_by_age.png\", transparent=True, format=\"png\")\n",
    "plt.show()\n"
   ]
  },
  {
   "cell_type": "markdown",
   "id": "bc1590e3-5da4-4487-b72a-c8102aa78bf1",
   "metadata": {},
   "source": [
    "### 1.2. Compare login frequency by tenure:\n"
   ]
  },
  {
   "cell_type": "code",
   "execution_count": null,
   "id": "ac7b9b85-48c7-495b-a2ce-0f57618a69ad",
   "metadata": {},
   "outputs": [],
   "source": [
    "#1.2. Compare login frequency by tenure:\n",
    "df_final['tenure_years'] = df_final['clnt_tenure_yr'] + df_final['clnt_tenure_mnth'] / 12\n",
    "df_final['tenure_group'] = pd.cut(df_final['tenure_years'], bins=[0, 2, 5, 10, 20, 40], labels=['<2y', '2-5y', '5-10y', '10-20y', '20y+'])\n",
    "\n",
    "df_tenure = df_final.groupby('tenure_group', observed= True)['logons_6_mnth'].mean().reset_index()\n"
   ]
  },
  {
   "cell_type": "code",
   "execution_count": null,
   "id": "032fdc30-0452-416b-a45d-455cb1a6ee18",
   "metadata": {},
   "outputs": [],
   "source": [
    "# Generate cubehelix palette with ENOUGH colors\n",
    "n_colors = df_tenure['tenure_group'].nunique()\n",
    "cubehelix_colors = sns.cubehelix_palette(start=.2, rot=-.32, n_colors=n_colors)\n",
    "\n",
    "# Plot\n",
    "fig, ax = plt.subplots(figsize=(8, 5))\n",
    "sns.barplot(\n",
    "    data=df_tenure,\n",
    "    x='tenure_group',\n",
    "    y='logons_6_mnth',\n",
    "    palette=cubehelix_colors,\n",
    "    legend=False,                 \n",
    "    ax=ax\n",
    ")\n",
    "\n",
    "# Theme styling\n",
    "theme_color = \"#711164\"\n",
    "ax.set_title('Avg Logons by Tenure Years', color=theme_color)\n",
    "ax.set_xlabel('Tenure Years', color=theme_color)\n",
    "ax.set_ylabel('Average Logons', color=theme_color)\n",
    "ax.tick_params(colors=theme_color)\n",
    "\n",
    "for spine in ax.spines.values():\n",
    "    spine.set_visible(True)\n",
    "    spine.set_linewidth(1.2)\n",
    "    spine.set_color(theme_color)\n",
    "\n",
    "plt.tight_layout()\n",
    "plt.savefig(\"../slides/avg_logons_by_tenure.png\", transparent=True, format=\"png\")\n",
    "plt.show()\n"
   ]
  },
  {
   "cell_type": "markdown",
   "id": "4dd4b124-f2e5-457e-90f2-7f55c1f1c263",
   "metadata": {},
   "source": [
    "# 2.Client Behaviour Analysis\n",
    "#### 2.1. Do high-balance clients engage more digitally?\n",
    "#### 2.2 Do highly engaged digital clients call less?\n",
    "#### 2.3. How many process steps do they complete?"
   ]
  },
  {
   "cell_type": "code",
   "execution_count": null,
   "id": "8c298981-b615-4918-8925-cf51c3746279",
   "metadata": {},
   "outputs": [],
   "source": [
    "# 2.1 Balance group and engagement digitally\n",
    "df_final['balance_group'] = pd.qcut(df_final['bal'], q=4, labels=['Low', 'Mid', 'Mid_High', 'High'])\n",
    "df_balances = df_final.groupby('balance_group', observed=True)['logons_6_mnth'].mean().reset_index()\n",
    "\n",
    "# Generate cubehelix palette\n",
    "cubehelix_colors = sns.cubehelix_palette(start=.6, rot=-.32, n_colors=len(df_balances))\n",
    "\n",
    "# Plot using Seaborn\n",
    "fig, ax = plt.subplots(figsize=(8, 5))\n",
    "sns.barplot(\n",
    "    data=df_balances,\n",
    "    x='balance_group',\n",
    "    y='logons_6_mnth',\n",
    "    hue='balance_group',              \n",
    "    palette=cubehelix_colors,\n",
    "    legend=False,                    \n",
    "    ax=ax\n",
    ")\n",
    "\n",
    "# Style elements\n",
    "theme_color = \"#711164\"\n",
    "ax.set_title('Avg Logons by Balance Level', color=theme_color)\n",
    "ax.set_xlabel('Balance Groups', color=theme_color)\n",
    "ax.set_ylabel('Average Logons', color=theme_color)\n",
    "ax.tick_params(colors=theme_color)\n",
    "\n",
    "for spine in ax.spines.values():\n",
    "    spine.set_visible(True)\n",
    "    spine.set_linewidth(1.2)\n",
    "    spine.set_color(theme_color)\n",
    "\n",
    "plt.tight_layout()\n",
    "plt.savefig(\"../slides/avg_logons_by_balance.png\", transparent=True, format=\"png\")\n",
    "plt.show()\n",
    "\n"
   ]
  },
  {
   "cell_type": "code",
   "execution_count": null,
   "id": "c5fd1b8e-4b46-4f52-957b-a34e31cce52b",
   "metadata": {},
   "outputs": [],
   "source": [
    "# 2.2 Do highly engaged digital clients call less?\n",
    "sns.scatterplot(data=df_final, \n",
    "                x='logons_6_mnth',\n",
    "                y='calls_6_mnth',\n",
    "                color='seagreen')  # Or any other color\n",
    "\n",
    "plt.title(\"Logons vs Calls (6 Months)\")\n",
    "plt.tight_layout()\n",
    "plt.savefig(\"../slides/logons_by_calls.png\", transparent=True, format=\"png\")\n",
    "plt.show()\n"
   ]
  },
  {
   "cell_type": "code",
   "execution_count": null,
   "id": "2ff629e7-b6c5-4bc3-8c58-cf61e5294164",
   "metadata": {},
   "outputs": [],
   "source": [
    "#2.3.How many process steps do they complete?\n",
    "# Count how many unique process steps each client completed\n",
    "df_steps = df_final.groupby('client_id')['process_step'].nunique().reset_index()\n",
    "df_steps.columns = ['client_id', 'steps_completed']\n",
    "\n",
    "# # Merge steps back into the full dataset\n",
    "# df_final = df_final.merge(df_steps, on='client_id', how='left')\n",
    "# df_final['steps_completed'].fillna(0)\n",
    "\n",
    "# Plot: Average number of steps completed per age group\n",
    "df_final.groupby('age_group', observed=True)['steps_completed'].mean().plot(\n",
    "    kind='bar',\n",
    "    title='Avg Steps Completed by Age Group',\n",
    "    color=cubehelix_colors\n",
    ")\n",
    "\n",
    "plt.ylabel('Avg Steps Completed')\n",
    "plt.xlabel('Age Group')\n",
    "plt.tight_layout()\n",
    "plt.savefig(\"../slides/avaragestepsbyage.png\", transparent=True, format=\"png\")\n",
    "plt.show()\n"
   ]
  },
  {
   "cell_type": "code",
   "execution_count": null,
   "id": "22ee5dbf-0b4e-4c45-806e-faa611d0d0be",
   "metadata": {},
   "outputs": [],
   "source": [
    "#2.4. Completed process by balance group\n",
    "# Plot: Average number of steps completed per balance group\n",
    "df_final.groupby('balance_group', observed=True)['steps_completed'].mean().plot(\n",
    "    kind='bar',\n",
    "    title='Avg Steps Completed by balance Group',\n",
    "    color=cubehelix_colors[2]\n",
    ")\n",
    "\n",
    "plt.ylabel('Avg Steps Completed')\n",
    "plt.xlabel('Balance Group')\n",
    "plt.tight_layout()\n",
    "plt.savefig(\"../slides/av_steps_by_balance.png\", transparent=True, format=\"png\")\n",
    "plt.show()\n"
   ]
  },
  {
   "cell_type": "code",
   "execution_count": null,
   "id": "38b2453e-ce4d-4368-807e-e58e6f65134b",
   "metadata": {},
   "outputs": [],
   "source": [
    "#2.5. Completed process by tenure group\n",
    "# Plot: Average number of steps completed per balance group\n",
    "df_final.groupby('tenure_group', observed=True)[['logons_6_mnth','steps_completed']].mean().plot(\n",
    "    kind='bar',\n",
    "    title='Avg Steps Completed by Tenure Years')\n",
    "\n",
    "plt.legend(bbox_to_anchor=(1.05, 1), loc='upper left', borderaxespad=0.)\n",
    "plt.ylabel('Avg Steps Completed')\n",
    "plt.xlabel('Tenure Years')\n",
    "plt.tight_layout()\n",
    "plt.savefig(\"../slides/av_steps_by_tenure.png\", transparent=True, format=\"png\")\n",
    "plt.show()"
   ]
  },
  {
   "cell_type": "markdown",
   "id": "9966a2a9-d5f4-40e0-ad7f-3417b9cabcbc",
   "metadata": {},
   "source": [
    "# Boxplots"
   ]
  },
  {
   "cell_type": "markdown",
   "id": "3b0149ab-1a01-4e96-8c13-ebbfa8b4b9a2",
   "metadata": {},
   "source": [
    "# Examine correlations between numerical features"
   ]
  },
  {
   "cell_type": "code",
   "execution_count": null,
   "id": "de4fdb23-02f2-4a25-a7d5-0df8794aae61",
   "metadata": {},
   "outputs": [],
   "source": [
    "df_final.columns"
   ]
  },
  {
   "cell_type": "code",
   "execution_count": null,
   "id": "2e296c43-bb76-49fa-bb75-d4de7a79f500",
   "metadata": {},
   "outputs": [],
   "source": [
    "corr_matrix = df_demo.select_dtypes(include='number').corr()\n",
    "sns.heatmap(corr_matrix, annot=True, cmap='coolwarm')\n",
    "plt.show()"
   ]
  },
  {
   "cell_type": "code",
   "execution_count": null,
   "id": "f69ff514-05c0-4441-be8e-8dd98f3fc9c6",
   "metadata": {},
   "outputs": [],
   "source": []
  },
  {
   "cell_type": "markdown",
   "id": "7cdb5909-cde5-4105-936d-1e8c36130cc7",
   "metadata": {},
   "source": [
    "# Barplots"
   ]
  },
  {
   "cell_type": "code",
   "execution_count": null,
   "id": "3132cc18-4c6a-44e6-b6f7-958708e8f2c4",
   "metadata": {},
   "outputs": [],
   "source": []
  }
 ],
 "metadata": {
  "kernelspec": {
   "display_name": "Python [conda env:base] *",
   "language": "python",
   "name": "conda-base-py"
  },
  "language_info": {
   "codemirror_mode": {
    "name": "ipython",
    "version": 3
   },
   "file_extension": ".py",
   "mimetype": "text/x-python",
   "name": "python",
   "nbconvert_exporter": "python",
   "pygments_lexer": "ipython3",
   "version": "3.12.7"
  }
 },
 "nbformat": 4,
 "nbformat_minor": 5
}
